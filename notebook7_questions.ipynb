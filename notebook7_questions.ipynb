{
 "cells": [
  {
   "cell_type": "markdown",
   "metadata": {},
   "source": [
    "# Guided project: Thanksgiving data analysis.\n"
   ]
  },
  {
   "cell_type": "markdown",
   "metadata": {},
   "source": [
    "## Introduction to the dataset\n"
   ]
  },
  {
   "cell_type": "markdown",
   "metadata": {},
   "source": [
    "- Import the pandas library.\n",
    "- Use the pandas.read_csv() function to read the thanksgiving.csv file.\n",
    ">- Specify in the function parameters the argument encoding='latin-1' because this dataset is not encoded normally.\n",
    ">- Assign the dataframe to the variable data\n",
    "- Display the first lines of data.\n",
    "- Display the column names with the columns attribute.\n"
   ]
  },
  {
   "cell_type": "code",
   "execution_count": 1,
   "metadata": {},
   "outputs": [],
   "source": [
    "import numpy as np\n",
    "import matplotlib.pyplot as plt\n",
    "import pandas as pd\n",
    "from IPython.display import Image\n",
    "%matplotlib inline\n",
    "# standard import statement for seaborn\n",
    "import seaborn as sns"
   ]
  },
  {
   "cell_type": "code",
   "execution_count": 2,
   "metadata": {},
   "outputs": [
    {
     "name": "stdout",
     "output_type": "stream",
     "text": [
      "   RespondentID Do you celebrate Thanksgiving?  \\\n",
      "0    4337954960                            Yes   \n",
      "\n",
      "  What is typically the main dish at your Thanksgiving dinner?  \\\n",
      "0                                             Turkey             \n",
      "\n",
      "  What is typically the main dish at your Thanksgiving dinner? - Other (please specify)  \\\n",
      "0                                                NaN                                      \n",
      "\n",
      "  How is the main dish typically cooked?  \\\n",
      "0                                  Baked   \n",
      "\n",
      "  How is the main dish typically cooked? - Other (please specify)  \\\n",
      "0                                                NaN                \n",
      "\n",
      "  What kind of stuffing/dressing do you typically have?  \\\n",
      "0                                        Bread-based      \n",
      "\n",
      "  What kind of stuffing/dressing do you typically have? - Other (please specify)  \\\n",
      "0                                                NaN                               \n",
      "\n",
      "  What type of cranberry saucedo you typically have?  \\\n",
      "0                                               None   \n",
      "\n",
      "  What type of cranberry saucedo you typically have? - Other (please specify)  \\\n",
      "0                                                NaN                            \n",
      "\n",
      "   ...  \\\n",
      "0  ...   \n",
      "\n",
      "  Have you ever tried to meet up with hometown friends on Thanksgiving night?  \\\n",
      "0                                                Yes                            \n",
      "\n",
      "  Have you ever attended a \"Friendsgiving?\"  \\\n",
      "0                                        No   \n",
      "\n",
      "  Will you shop any Black Friday sales on Thanksgiving Day?  \\\n",
      "0                                                 No          \n",
      "\n",
      "  Do you work in retail? Will you employer make you work on Black Friday?  \\\n",
      "0                     No                                              NaN   \n",
      "\n",
      "  How would you describe where you live?      Age What is your gender?  \\\n",
      "0                               Suburban  18 - 29                 Male   \n",
      "\n",
      "  How much total combined money did all members of your HOUSEHOLD earn last year?  \\\n",
      "0                                 $75,000 to $99,999                                \n",
      "\n",
      "         US Region  \n",
      "0  Middle Atlantic  \n",
      "\n",
      "[1 rows x 65 columns]\n"
     ]
    }
   ],
   "source": [
    "thanks = pd.read_csv('thanksgiving.csv',encoding = 'latin-1')\n",
    "print(thanks.head(1))\n"
   ]
  },
  {
   "cell_type": "code",
   "execution_count": 3,
   "metadata": {},
   "outputs": [
    {
     "name": "stdout",
     "output_type": "stream",
     "text": [
      "RespondentID                                                                              int64\n",
      "Do you celebrate Thanksgiving?                                                           object\n",
      "What is typically the main dish at your Thanksgiving dinner?                             object\n",
      "What is typically the main dish at your Thanksgiving dinner? - Other (please specify)    object\n",
      "How is the main dish typically cooked?                                                   object\n",
      "                                                                                          ...  \n",
      "How would you describe where you live?                                                   object\n",
      "Age                                                                                      object\n",
      "What is your gender?                                                                     object\n",
      "How much total combined money did all members of your HOUSEHOLD earn last year?          object\n",
      "US Region                                                                                object\n",
      "Length: 65, dtype: object\n"
     ]
    }
   ],
   "source": [
    "print(thanks.dtypes) "
   ]
  },
  {
   "cell_type": "markdown",
   "metadata": {},
   "source": [
    "## Filtering data\n"
   ]
  },
  {
   "cell_type": "markdown",
   "metadata": {},
   "source": [
    "- Use the Series.value_counts() method to display the response count for each category in the 'Do you celebrate Thanksgiving?' column.\n",
    "- Filter and save all rows of the dataframe data for which the answer to the 'Do you celebrate Thanksgiving?' question is 'Yes'.\n",
    "- Assign this new dataframe to data and display it.\n"
   ]
  },
  {
   "cell_type": "code",
   "execution_count": 4,
   "metadata": {},
   "outputs": [
    {
     "data": {
      "text/plain": [
       "Yes    980\n",
       "No      78\n",
       "Name: Do you celebrate Thanksgiving?, dtype: int64"
      ]
     },
     "execution_count": 4,
     "metadata": {},
     "output_type": "execute_result"
    }
   ],
   "source": [
    "count  = thanks['Do you celebrate Thanksgiving?'].value_counts()\n",
    "count"
   ]
  },
  {
   "cell_type": "code",
   "execution_count": 5,
   "metadata": {},
   "outputs": [],
   "source": [
    "yes = thanks[thanks['Do you celebrate Thanksgiving?'] == \"Yes\"]"
   ]
  },
  {
   "cell_type": "code",
   "execution_count": 6,
   "metadata": {},
   "outputs": [
    {
     "data": {
      "text/html": [
       "<div>\n",
       "<style scoped>\n",
       "    .dataframe tbody tr th:only-of-type {\n",
       "        vertical-align: middle;\n",
       "    }\n",
       "\n",
       "    .dataframe tbody tr th {\n",
       "        vertical-align: top;\n",
       "    }\n",
       "\n",
       "    .dataframe thead th {\n",
       "        text-align: right;\n",
       "    }\n",
       "</style>\n",
       "<table border=\"1\" class=\"dataframe\">\n",
       "  <thead>\n",
       "    <tr style=\"text-align: right;\">\n",
       "      <th></th>\n",
       "      <th>RespondentID</th>\n",
       "      <th>Do you celebrate Thanksgiving?</th>\n",
       "      <th>What is typically the main dish at your Thanksgiving dinner?</th>\n",
       "      <th>What is typically the main dish at your Thanksgiving dinner? - Other (please specify)</th>\n",
       "      <th>How is the main dish typically cooked?</th>\n",
       "      <th>How is the main dish typically cooked? - Other (please specify)</th>\n",
       "      <th>What kind of stuffing/dressing do you typically have?</th>\n",
       "      <th>What kind of stuffing/dressing do you typically have? - Other (please specify)</th>\n",
       "      <th>What type of cranberry saucedo you typically have?</th>\n",
       "      <th>What type of cranberry saucedo you typically have? - Other (please specify)</th>\n",
       "      <th>...</th>\n",
       "      <th>Have you ever tried to meet up with hometown friends on Thanksgiving night?</th>\n",
       "      <th>Have you ever attended a \"Friendsgiving?\"</th>\n",
       "      <th>Will you shop any Black Friday sales on Thanksgiving Day?</th>\n",
       "      <th>Do you work in retail?</th>\n",
       "      <th>Will you employer make you work on Black Friday?</th>\n",
       "      <th>How would you describe where you live?</th>\n",
       "      <th>Age</th>\n",
       "      <th>What is your gender?</th>\n",
       "      <th>How much total combined money did all members of your HOUSEHOLD earn last year?</th>\n",
       "      <th>US Region</th>\n",
       "    </tr>\n",
       "  </thead>\n",
       "  <tbody>\n",
       "    <tr>\n",
       "      <td>0</td>\n",
       "      <td>4337954960</td>\n",
       "      <td>Yes</td>\n",
       "      <td>Turkey</td>\n",
       "      <td>NaN</td>\n",
       "      <td>Baked</td>\n",
       "      <td>NaN</td>\n",
       "      <td>Bread-based</td>\n",
       "      <td>NaN</td>\n",
       "      <td>None</td>\n",
       "      <td>NaN</td>\n",
       "      <td>...</td>\n",
       "      <td>Yes</td>\n",
       "      <td>No</td>\n",
       "      <td>No</td>\n",
       "      <td>No</td>\n",
       "      <td>NaN</td>\n",
       "      <td>Suburban</td>\n",
       "      <td>18 - 29</td>\n",
       "      <td>Male</td>\n",
       "      <td>$75,000 to $99,999</td>\n",
       "      <td>Middle Atlantic</td>\n",
       "    </tr>\n",
       "    <tr>\n",
       "      <td>1</td>\n",
       "      <td>4337951949</td>\n",
       "      <td>Yes</td>\n",
       "      <td>Turkey</td>\n",
       "      <td>NaN</td>\n",
       "      <td>Baked</td>\n",
       "      <td>NaN</td>\n",
       "      <td>Bread-based</td>\n",
       "      <td>NaN</td>\n",
       "      <td>Other (please specify)</td>\n",
       "      <td>Homemade cranberry gelatin ring</td>\n",
       "      <td>...</td>\n",
       "      <td>No</td>\n",
       "      <td>No</td>\n",
       "      <td>Yes</td>\n",
       "      <td>No</td>\n",
       "      <td>NaN</td>\n",
       "      <td>Rural</td>\n",
       "      <td>18 - 29</td>\n",
       "      <td>Female</td>\n",
       "      <td>$50,000 to $74,999</td>\n",
       "      <td>East South Central</td>\n",
       "    </tr>\n",
       "    <tr>\n",
       "      <td>2</td>\n",
       "      <td>4337935621</td>\n",
       "      <td>Yes</td>\n",
       "      <td>Turkey</td>\n",
       "      <td>NaN</td>\n",
       "      <td>Roasted</td>\n",
       "      <td>NaN</td>\n",
       "      <td>Rice-based</td>\n",
       "      <td>NaN</td>\n",
       "      <td>Homemade</td>\n",
       "      <td>NaN</td>\n",
       "      <td>...</td>\n",
       "      <td>Yes</td>\n",
       "      <td>Yes</td>\n",
       "      <td>Yes</td>\n",
       "      <td>No</td>\n",
       "      <td>NaN</td>\n",
       "      <td>Suburban</td>\n",
       "      <td>18 - 29</td>\n",
       "      <td>Male</td>\n",
       "      <td>$0 to $9,999</td>\n",
       "      <td>Mountain</td>\n",
       "    </tr>\n",
       "    <tr>\n",
       "      <td>3</td>\n",
       "      <td>4337933040</td>\n",
       "      <td>Yes</td>\n",
       "      <td>Turkey</td>\n",
       "      <td>NaN</td>\n",
       "      <td>Baked</td>\n",
       "      <td>NaN</td>\n",
       "      <td>Bread-based</td>\n",
       "      <td>NaN</td>\n",
       "      <td>Homemade</td>\n",
       "      <td>NaN</td>\n",
       "      <td>...</td>\n",
       "      <td>Yes</td>\n",
       "      <td>No</td>\n",
       "      <td>No</td>\n",
       "      <td>No</td>\n",
       "      <td>NaN</td>\n",
       "      <td>Urban</td>\n",
       "      <td>30 - 44</td>\n",
       "      <td>Male</td>\n",
       "      <td>$200,000 and up</td>\n",
       "      <td>Pacific</td>\n",
       "    </tr>\n",
       "    <tr>\n",
       "      <td>4</td>\n",
       "      <td>4337931983</td>\n",
       "      <td>Yes</td>\n",
       "      <td>Tofurkey</td>\n",
       "      <td>NaN</td>\n",
       "      <td>Baked</td>\n",
       "      <td>NaN</td>\n",
       "      <td>Bread-based</td>\n",
       "      <td>NaN</td>\n",
       "      <td>Canned</td>\n",
       "      <td>NaN</td>\n",
       "      <td>...</td>\n",
       "      <td>Yes</td>\n",
       "      <td>No</td>\n",
       "      <td>No</td>\n",
       "      <td>No</td>\n",
       "      <td>NaN</td>\n",
       "      <td>Urban</td>\n",
       "      <td>30 - 44</td>\n",
       "      <td>Male</td>\n",
       "      <td>$100,000 to $124,999</td>\n",
       "      <td>Pacific</td>\n",
       "    </tr>\n",
       "    <tr>\n",
       "      <td>...</td>\n",
       "      <td>...</td>\n",
       "      <td>...</td>\n",
       "      <td>...</td>\n",
       "      <td>...</td>\n",
       "      <td>...</td>\n",
       "      <td>...</td>\n",
       "      <td>...</td>\n",
       "      <td>...</td>\n",
       "      <td>...</td>\n",
       "      <td>...</td>\n",
       "      <td>...</td>\n",
       "      <td>...</td>\n",
       "      <td>...</td>\n",
       "      <td>...</td>\n",
       "      <td>...</td>\n",
       "      <td>...</td>\n",
       "      <td>...</td>\n",
       "      <td>...</td>\n",
       "      <td>...</td>\n",
       "      <td>...</td>\n",
       "      <td>...</td>\n",
       "    </tr>\n",
       "    <tr>\n",
       "      <td>1053</td>\n",
       "      <td>4335944082</td>\n",
       "      <td>Yes</td>\n",
       "      <td>Turkey</td>\n",
       "      <td>NaN</td>\n",
       "      <td>Roasted</td>\n",
       "      <td>NaN</td>\n",
       "      <td>Bread-based</td>\n",
       "      <td>NaN</td>\n",
       "      <td>Homemade</td>\n",
       "      <td>NaN</td>\n",
       "      <td>...</td>\n",
       "      <td>Yes</td>\n",
       "      <td>Yes</td>\n",
       "      <td>No</td>\n",
       "      <td>No</td>\n",
       "      <td>NaN</td>\n",
       "      <td>Rural</td>\n",
       "      <td>30 - 44</td>\n",
       "      <td>Female</td>\n",
       "      <td>$100,000 to $124,999</td>\n",
       "      <td>Mountain</td>\n",
       "    </tr>\n",
       "    <tr>\n",
       "      <td>1054</td>\n",
       "      <td>4335943173</td>\n",
       "      <td>Yes</td>\n",
       "      <td>Turkey</td>\n",
       "      <td>NaN</td>\n",
       "      <td>Baked</td>\n",
       "      <td>NaN</td>\n",
       "      <td>Bread-based</td>\n",
       "      <td>NaN</td>\n",
       "      <td>Canned</td>\n",
       "      <td>NaN</td>\n",
       "      <td>...</td>\n",
       "      <td>No</td>\n",
       "      <td>No</td>\n",
       "      <td>No</td>\n",
       "      <td>No</td>\n",
       "      <td>NaN</td>\n",
       "      <td>Suburban</td>\n",
       "      <td>60+</td>\n",
       "      <td>Female</td>\n",
       "      <td>$50,000 to $74,999</td>\n",
       "      <td>Pacific</td>\n",
       "    </tr>\n",
       "    <tr>\n",
       "      <td>1055</td>\n",
       "      <td>4335943060</td>\n",
       "      <td>Yes</td>\n",
       "      <td>Other (please specify)</td>\n",
       "      <td>Duck</td>\n",
       "      <td>Baked</td>\n",
       "      <td>NaN</td>\n",
       "      <td>Rice-based</td>\n",
       "      <td>NaN</td>\n",
       "      <td>None</td>\n",
       "      <td>NaN</td>\n",
       "      <td>...</td>\n",
       "      <td>Yes</td>\n",
       "      <td>Yes</td>\n",
       "      <td>Yes</td>\n",
       "      <td>No</td>\n",
       "      <td>NaN</td>\n",
       "      <td>Urban</td>\n",
       "      <td>60+</td>\n",
       "      <td>Male</td>\n",
       "      <td>$100,000 to $124,999</td>\n",
       "      <td>Pacific</td>\n",
       "    </tr>\n",
       "    <tr>\n",
       "      <td>1056</td>\n",
       "      <td>4335934708</td>\n",
       "      <td>Yes</td>\n",
       "      <td>Turkey</td>\n",
       "      <td>NaN</td>\n",
       "      <td>Baked</td>\n",
       "      <td>NaN</td>\n",
       "      <td>None</td>\n",
       "      <td>NaN</td>\n",
       "      <td>Homemade</td>\n",
       "      <td>NaN</td>\n",
       "      <td>...</td>\n",
       "      <td>Yes</td>\n",
       "      <td>No</td>\n",
       "      <td>Yes</td>\n",
       "      <td>Yes</td>\n",
       "      <td>Yes</td>\n",
       "      <td>NaN</td>\n",
       "      <td>NaN</td>\n",
       "      <td>NaN</td>\n",
       "      <td>NaN</td>\n",
       "      <td>NaN</td>\n",
       "    </tr>\n",
       "    <tr>\n",
       "      <td>1057</td>\n",
       "      <td>4335894916</td>\n",
       "      <td>Yes</td>\n",
       "      <td>Turkey</td>\n",
       "      <td>NaN</td>\n",
       "      <td>Baked</td>\n",
       "      <td>NaN</td>\n",
       "      <td>Bread-based</td>\n",
       "      <td>NaN</td>\n",
       "      <td>Canned</td>\n",
       "      <td>NaN</td>\n",
       "      <td>...</td>\n",
       "      <td>Yes</td>\n",
       "      <td>Yes</td>\n",
       "      <td>Yes</td>\n",
       "      <td>No</td>\n",
       "      <td>NaN</td>\n",
       "      <td>NaN</td>\n",
       "      <td>NaN</td>\n",
       "      <td>NaN</td>\n",
       "      <td>NaN</td>\n",
       "      <td>NaN</td>\n",
       "    </tr>\n",
       "  </tbody>\n",
       "</table>\n",
       "<p>980 rows × 65 columns</p>\n",
       "</div>"
      ],
      "text/plain": [
       "      RespondentID Do you celebrate Thanksgiving?  \\\n",
       "0       4337954960                            Yes   \n",
       "1       4337951949                            Yes   \n",
       "2       4337935621                            Yes   \n",
       "3       4337933040                            Yes   \n",
       "4       4337931983                            Yes   \n",
       "...            ...                            ...   \n",
       "1053    4335944082                            Yes   \n",
       "1054    4335943173                            Yes   \n",
       "1055    4335943060                            Yes   \n",
       "1056    4335934708                            Yes   \n",
       "1057    4335894916                            Yes   \n",
       "\n",
       "     What is typically the main dish at your Thanksgiving dinner?  \\\n",
       "0                                                Turkey             \n",
       "1                                                Turkey             \n",
       "2                                                Turkey             \n",
       "3                                                Turkey             \n",
       "4                                              Tofurkey             \n",
       "...                                                 ...             \n",
       "1053                                             Turkey             \n",
       "1054                                             Turkey             \n",
       "1055                             Other (please specify)             \n",
       "1056                                             Turkey             \n",
       "1057                                             Turkey             \n",
       "\n",
       "     What is typically the main dish at your Thanksgiving dinner? - Other (please specify)  \\\n",
       "0                                                   NaN                                      \n",
       "1                                                   NaN                                      \n",
       "2                                                   NaN                                      \n",
       "3                                                   NaN                                      \n",
       "4                                                   NaN                                      \n",
       "...                                                 ...                                      \n",
       "1053                                                NaN                                      \n",
       "1054                                                NaN                                      \n",
       "1055                                               Duck                                      \n",
       "1056                                                NaN                                      \n",
       "1057                                                NaN                                      \n",
       "\n",
       "     How is the main dish typically cooked?  \\\n",
       "0                                     Baked   \n",
       "1                                     Baked   \n",
       "2                                   Roasted   \n",
       "3                                     Baked   \n",
       "4                                     Baked   \n",
       "...                                     ...   \n",
       "1053                                Roasted   \n",
       "1054                                  Baked   \n",
       "1055                                  Baked   \n",
       "1056                                  Baked   \n",
       "1057                                  Baked   \n",
       "\n",
       "     How is the main dish typically cooked? - Other (please specify)  \\\n",
       "0                                                   NaN                \n",
       "1                                                   NaN                \n",
       "2                                                   NaN                \n",
       "3                                                   NaN                \n",
       "4                                                   NaN                \n",
       "...                                                 ...                \n",
       "1053                                                NaN                \n",
       "1054                                                NaN                \n",
       "1055                                                NaN                \n",
       "1056                                                NaN                \n",
       "1057                                                NaN                \n",
       "\n",
       "     What kind of stuffing/dressing do you typically have?  \\\n",
       "0                                           Bread-based      \n",
       "1                                           Bread-based      \n",
       "2                                            Rice-based      \n",
       "3                                           Bread-based      \n",
       "4                                           Bread-based      \n",
       "...                                                 ...      \n",
       "1053                                        Bread-based      \n",
       "1054                                        Bread-based      \n",
       "1055                                         Rice-based      \n",
       "1056                                               None      \n",
       "1057                                        Bread-based      \n",
       "\n",
       "     What kind of stuffing/dressing do you typically have? - Other (please specify)  \\\n",
       "0                                                   NaN                               \n",
       "1                                                   NaN                               \n",
       "2                                                   NaN                               \n",
       "3                                                   NaN                               \n",
       "4                                                   NaN                               \n",
       "...                                                 ...                               \n",
       "1053                                                NaN                               \n",
       "1054                                                NaN                               \n",
       "1055                                                NaN                               \n",
       "1056                                                NaN                               \n",
       "1057                                                NaN                               \n",
       "\n",
       "     What type of cranberry saucedo you typically have?  \\\n",
       "0                                                  None   \n",
       "1                                Other (please specify)   \n",
       "2                                              Homemade   \n",
       "3                                              Homemade   \n",
       "4                                                Canned   \n",
       "...                                                 ...   \n",
       "1053                                           Homemade   \n",
       "1054                                             Canned   \n",
       "1055                                               None   \n",
       "1056                                           Homemade   \n",
       "1057                                             Canned   \n",
       "\n",
       "     What type of cranberry saucedo you typically have? - Other (please specify)  \\\n",
       "0                                                   NaN                            \n",
       "1                       Homemade cranberry gelatin ring                            \n",
       "2                                                   NaN                            \n",
       "3                                                   NaN                            \n",
       "4                                                   NaN                            \n",
       "...                                                 ...                            \n",
       "1053                                                NaN                            \n",
       "1054                                                NaN                            \n",
       "1055                                                NaN                            \n",
       "1056                                                NaN                            \n",
       "1057                                                NaN                            \n",
       "\n",
       "      ...  \\\n",
       "0     ...   \n",
       "1     ...   \n",
       "2     ...   \n",
       "3     ...   \n",
       "4     ...   \n",
       "...   ...   \n",
       "1053  ...   \n",
       "1054  ...   \n",
       "1055  ...   \n",
       "1056  ...   \n",
       "1057  ...   \n",
       "\n",
       "     Have you ever tried to meet up with hometown friends on Thanksgiving night?  \\\n",
       "0                                                   Yes                            \n",
       "1                                                    No                            \n",
       "2                                                   Yes                            \n",
       "3                                                   Yes                            \n",
       "4                                                   Yes                            \n",
       "...                                                 ...                            \n",
       "1053                                                Yes                            \n",
       "1054                                                 No                            \n",
       "1055                                                Yes                            \n",
       "1056                                                Yes                            \n",
       "1057                                                Yes                            \n",
       "\n",
       "     Have you ever attended a \"Friendsgiving?\"  \\\n",
       "0                                           No   \n",
       "1                                           No   \n",
       "2                                          Yes   \n",
       "3                                           No   \n",
       "4                                           No   \n",
       "...                                        ...   \n",
       "1053                                       Yes   \n",
       "1054                                        No   \n",
       "1055                                       Yes   \n",
       "1056                                        No   \n",
       "1057                                       Yes   \n",
       "\n",
       "     Will you shop any Black Friday sales on Thanksgiving Day?  \\\n",
       "0                                                    No          \n",
       "1                                                   Yes          \n",
       "2                                                   Yes          \n",
       "3                                                    No          \n",
       "4                                                    No          \n",
       "...                                                 ...          \n",
       "1053                                                 No          \n",
       "1054                                                 No          \n",
       "1055                                                Yes          \n",
       "1056                                                Yes          \n",
       "1057                                                Yes          \n",
       "\n",
       "     Do you work in retail? Will you employer make you work on Black Friday?  \\\n",
       "0                        No                                              NaN   \n",
       "1                        No                                              NaN   \n",
       "2                        No                                              NaN   \n",
       "3                        No                                              NaN   \n",
       "4                        No                                              NaN   \n",
       "...                     ...                                              ...   \n",
       "1053                     No                                              NaN   \n",
       "1054                     No                                              NaN   \n",
       "1055                     No                                              NaN   \n",
       "1056                    Yes                                              Yes   \n",
       "1057                     No                                              NaN   \n",
       "\n",
       "     How would you describe where you live?      Age What is your gender?  \\\n",
       "0                                  Suburban  18 - 29                 Male   \n",
       "1                                     Rural  18 - 29               Female   \n",
       "2                                  Suburban  18 - 29                 Male   \n",
       "3                                     Urban  30 - 44                 Male   \n",
       "4                                     Urban  30 - 44                 Male   \n",
       "...                                     ...      ...                  ...   \n",
       "1053                                  Rural  30 - 44               Female   \n",
       "1054                               Suburban      60+               Female   \n",
       "1055                                  Urban      60+                 Male   \n",
       "1056                                    NaN      NaN                  NaN   \n",
       "1057                                    NaN      NaN                  NaN   \n",
       "\n",
       "     How much total combined money did all members of your HOUSEHOLD earn last year?  \\\n",
       "0                                    $75,000 to $99,999                                \n",
       "1                                    $50,000 to $74,999                                \n",
       "2                                          $0 to $9,999                                \n",
       "3                                       $200,000 and up                                \n",
       "4                                  $100,000 to $124,999                                \n",
       "...                                                 ...                                \n",
       "1053                               $100,000 to $124,999                                \n",
       "1054                                 $50,000 to $74,999                                \n",
       "1055                               $100,000 to $124,999                                \n",
       "1056                                                NaN                                \n",
       "1057                                                NaN                                \n",
       "\n",
       "               US Region  \n",
       "0        Middle Atlantic  \n",
       "1     East South Central  \n",
       "2               Mountain  \n",
       "3                Pacific  \n",
       "4                Pacific  \n",
       "...                  ...  \n",
       "1053            Mountain  \n",
       "1054             Pacific  \n",
       "1055             Pacific  \n",
       "1056                 NaN  \n",
       "1057                 NaN  \n",
       "\n",
       "[980 rows x 65 columns]"
      ]
     },
     "execution_count": 6,
     "metadata": {},
     "output_type": "execute_result"
    }
   ],
   "source": [
    "yes"
   ]
  },
  {
   "cell_type": "markdown",
   "metadata": {},
   "source": [
    "## Exploring thanksgiving dinners\n"
   ]
  },
  {
   "cell_type": "markdown",
   "metadata": {},
   "source": [
    "- Use the Series.value_counts() method to display how many times each result appears for the 'What is typically the main dish at your Thanksgiving dinner?' question and column.\n",
    "- Display the 'Do you typically have gravy? column for rows in the dataframe data for which the 'What is typically the main dish at your Thanksgiving dinner? column is set to 'Tofurkey' for tofu turkey.\n",
    ">- Create a filter that selects only those rows in the dataframe data where 'What is typically the main dish at your Thanksgiving dinner?' is set to 'Tofurkey'.\n",
    ">- Assign the result to the variable tofurkey\n",
    ">- Display the 'Do you typically have gravy?' column of this new tofurkey dataframe.\n"
   ]
  },
  {
   "cell_type": "code",
   "execution_count": 7,
   "metadata": {},
   "outputs": [
    {
     "data": {
      "text/plain": [
       "Turkey                    859\n",
       "Other (please specify)     35\n",
       "Ham/Pork                   29\n",
       "Tofurkey                   20\n",
       "Chicken                    12\n",
       "Roast beef                 11\n",
       "I don't know                5\n",
       "Turducken                   3\n",
       "Name: What is typically the main dish at your Thanksgiving dinner?, dtype: int64"
      ]
     },
     "execution_count": 7,
     "metadata": {},
     "output_type": "execute_result"
    }
   ],
   "source": [
    "cou = thanks['What is typically the main dish at your Thanksgiving dinner?'].value_counts()\n",
    "cou"
   ]
  },
  {
   "cell_type": "code",
   "execution_count": 8,
   "metadata": {},
   "outputs": [],
   "source": [
    "turkey = thanks[thanks['What is typically the main dish at your Thanksgiving dinner?']=='Turkey']"
   ]
  },
  {
   "cell_type": "code",
   "execution_count": 9,
   "metadata": {},
   "outputs": [
    {
     "data": {
      "text/plain": [
       "Yes    814\n",
       "No      45\n",
       "Name: Do you typically have gravy?, dtype: int64"
      ]
     },
     "execution_count": 9,
     "metadata": {},
     "output_type": "execute_result"
    }
   ],
   "source": [
    "turkey['Do you typically have gravy?'].value_counts()"
   ]
  },
  {
   "cell_type": "code",
   "execution_count": 10,
   "metadata": {},
   "outputs": [
    {
     "data": {
      "text/plain": [
       "pandas.core.series.Series"
      ]
     },
     "execution_count": 10,
     "metadata": {},
     "output_type": "execute_result"
    }
   ],
   "source": [
    "pd.Series"
   ]
  },
  {
   "cell_type": "markdown",
   "metadata": {},
   "source": [
    "## Dessert trends for Thanksgiving ##\n"
   ]
  },
  {
   "cell_type": "markdown",
   "metadata": {},
   "source": [
    "- Create a Series object indicating with booleans the values of the column 'Which type of pie is typically served at your Thanksgiving dinner? Please select all that apply. - Apple' which are null. Assign the result to the variable apple_isnull.\n",
    "- Create a Series object that uses booleans to indicate the values in the column 'Which type of pie is typically served at your Thanksgiving dinner? Please select all that apply. - Pumpkin' which are null. Assign the result to the pumpkin_isnull variable.\n",
    "- Create a Series object with booleans indicating the values in the column 'Which type of pie is typically served at your Thanksgiving dinner? Please select all that apply. - Pecan' which are null. Assign the result to the variable pecan_isnull.\n",
    "- Combine these 3 Series objects with the & operator and assign the result to the pies variable.\n",
    "- Display the unique values and how many times they appear in the pies column.\n"
   ]
  },
  {
   "cell_type": "code",
   "execution_count": 11,
   "metadata": {},
   "outputs": [],
   "source": [
    "apple_isnull = pd.isnull(thanks['Which type of pie is typically served at your Thanksgiving dinner? Please select all that apply. - Apple'])\n",
    "pumpkin_isnull = pd.isnull(thanks['Which type of pie is typically served at your Thanksgiving dinner? Please select all that apply. - Pumpkin'])\n",
    "pecan_isnull =  pd.isnull(thanks['Which type of pie is typically served at your Thanksgiving dinner? Please select all that apply. - Pecan'])"
   ]
  },
  {
   "cell_type": "code",
   "execution_count": 12,
   "metadata": {},
   "outputs": [],
   "source": [
    "a = apple_isnull & pumpkin_isnull & pecan_isnull"
   ]
  },
  {
   "cell_type": "code",
   "execution_count": 13,
   "metadata": {},
   "outputs": [
    {
     "data": {
      "text/plain": [
       "False    876\n",
       "True     182\n",
       "dtype: int64"
      ]
     },
     "execution_count": 13,
     "metadata": {},
     "output_type": "execute_result"
    }
   ],
   "source": [
    "a.value_counts()"
   ]
  },
  {
   "cell_type": "code",
   "execution_count": null,
   "metadata": {},
   "outputs": [],
   "source": []
  },
  {
   "cell_type": "code",
   "execution_count": null,
   "metadata": {},
   "outputs": [],
   "source": []
  },
  {
   "cell_type": "markdown",
   "metadata": {},
   "source": [
    "## Convert age to a numerical value ##\n"
   ]
  },
  {
   "cell_type": "markdown",
   "metadata": {},
   "source": [
    "- Write a function that converts a string into an integer value. This will convert the values in the 'Age' column to integers. This function will take as parameter a string of characters (the current values of the column 'Age').\n",
    ">- Use the isnull() function to check if the values are null. Add an if condition that returns 'None' if the value is null.\n",
    ">- Separate strings by space (' ') and extract the first element from the resulting list (split() method)\n",
    ">- Replace the '+' character in the result with an empty string to remove it (replace() method).\n",
    ">- use int() to convert the result to an integer\n",
    ">- Return the result\n",
    "- Use the Series.apply() method to apply the function to each value in the 'Age' column of the dataframe data.\n",
    ">- Assign the result to the new int_age column of the dataframe data.\n",
    "- Call the Series.describe() method on the 'int_age' column of the dataframe data and display the result.\n"
   ]
  },
  {
   "cell_type": "code",
   "execution_count": 14,
   "metadata": {},
   "outputs": [
    {
     "ename": "AttributeError",
     "evalue": "'Series' object has no attribute 'split'",
     "output_type": "error",
     "traceback": [
      "\u001b[1;31m---------------------------------------------------------------------------\u001b[0m",
      "\u001b[1;31mAttributeError\u001b[0m                            Traceback (most recent call last)",
      "\u001b[1;32m<ipython-input-14-afec3d963623>\u001b[0m in \u001b[0;36m<module>\u001b[1;34m\u001b[0m\n\u001b[0;32m      1\u001b[0m \u001b[0mahe\u001b[0m \u001b[1;33m=\u001b[0m \u001b[0mthanks\u001b[0m\u001b[1;33m[\u001b[0m\u001b[1;34m'Age'\u001b[0m\u001b[1;33m]\u001b[0m\u001b[1;33m\u001b[0m\u001b[1;33m\u001b[0m\u001b[0m\n\u001b[1;32m----> 2\u001b[1;33m \u001b[0mahe\u001b[0m\u001b[1;33m.\u001b[0m\u001b[0msplit\u001b[0m\u001b[1;33m(\u001b[0m\u001b[1;34m' '\u001b[0m\u001b[1;33m)\u001b[0m\u001b[1;33m\u001b[0m\u001b[1;33m\u001b[0m\u001b[0m\n\u001b[0m",
      "\u001b[1;32mE:\\Anaconda3\\lib\\site-packages\\pandas\\core\\generic.py\u001b[0m in \u001b[0;36m__getattr__\u001b[1;34m(self, name)\u001b[0m\n\u001b[0;32m   5177\u001b[0m             \u001b[1;32mif\u001b[0m \u001b[0mself\u001b[0m\u001b[1;33m.\u001b[0m\u001b[0m_info_axis\u001b[0m\u001b[1;33m.\u001b[0m\u001b[0m_can_hold_identifiers_and_holds_name\u001b[0m\u001b[1;33m(\u001b[0m\u001b[0mname\u001b[0m\u001b[1;33m)\u001b[0m\u001b[1;33m:\u001b[0m\u001b[1;33m\u001b[0m\u001b[1;33m\u001b[0m\u001b[0m\n\u001b[0;32m   5178\u001b[0m                 \u001b[1;32mreturn\u001b[0m \u001b[0mself\u001b[0m\u001b[1;33m[\u001b[0m\u001b[0mname\u001b[0m\u001b[1;33m]\u001b[0m\u001b[1;33m\u001b[0m\u001b[1;33m\u001b[0m\u001b[0m\n\u001b[1;32m-> 5179\u001b[1;33m             \u001b[1;32mreturn\u001b[0m \u001b[0mobject\u001b[0m\u001b[1;33m.\u001b[0m\u001b[0m__getattribute__\u001b[0m\u001b[1;33m(\u001b[0m\u001b[0mself\u001b[0m\u001b[1;33m,\u001b[0m \u001b[0mname\u001b[0m\u001b[1;33m)\u001b[0m\u001b[1;33m\u001b[0m\u001b[1;33m\u001b[0m\u001b[0m\n\u001b[0m\u001b[0;32m   5180\u001b[0m \u001b[1;33m\u001b[0m\u001b[0m\n\u001b[0;32m   5181\u001b[0m     \u001b[1;32mdef\u001b[0m \u001b[0m__setattr__\u001b[0m\u001b[1;33m(\u001b[0m\u001b[0mself\u001b[0m\u001b[1;33m,\u001b[0m \u001b[0mname\u001b[0m\u001b[1;33m,\u001b[0m \u001b[0mvalue\u001b[0m\u001b[1;33m)\u001b[0m\u001b[1;33m:\u001b[0m\u001b[1;33m\u001b[0m\u001b[1;33m\u001b[0m\u001b[0m\n",
      "\u001b[1;31mAttributeError\u001b[0m: 'Series' object has no attribute 'split'"
     ]
    }
   ],
   "source": [
    "ahe = thanks['Age']\n",
    "ahe.split(' ')"
   ]
  },
  {
   "cell_type": "code",
   "execution_count": 15,
   "metadata": {},
   "outputs": [
    {
     "data": {
      "text/plain": [
       "0       18.0\n",
       "1       18.0\n",
       "2       18.0\n",
       "3       30.0\n",
       "4       30.0\n",
       "        ... \n",
       "1053    30.0\n",
       "1054    60.0\n",
       "1055    60.0\n",
       "1056     NaN\n",
       "1057     NaN\n",
       "Name: int age, Length: 1058, dtype: float64"
      ]
     },
     "execution_count": 15,
     "metadata": {},
     "output_type": "execute_result"
    }
   ],
   "source": [
    "def check(age):\n",
    "    if pd.isnull(age):\n",
    "        return None\n",
    "    age = age.split(' ')[0]\n",
    "    age = age.replace('+', '')\n",
    "    return int(age)\n",
    "thanks['int age'] = thanks['Age'].apply(check)\n",
    "thanks['int age']"
   ]
  },
  {
   "cell_type": "code",
   "execution_count": null,
   "metadata": {},
   "outputs": [],
   "source": []
  },
  {
   "cell_type": "code",
   "execution_count": null,
   "metadata": {},
   "outputs": [],
   "source": []
  },
  {
   "cell_type": "markdown",
   "metadata": {},
   "source": [
    "## Convert income to numerical values\n"
   ]
  },
  {
   "cell_type": "markdown",
   "metadata": {},
   "source": [
    "- Write a function to convert income to a single integer format value.\n",
    ">- Use the isnull() function to check if the value is null. If it is, return 'None'.\n",
    ">- Separate the string using space as delimiter and extract the first element from the resulting list.\n",
    ">- If the result is 'Prefer', return 'none'.\n",
    ">- Replace the characters '$' and ',' with empty strings to delete them.\n",
    ">- Use int() to convert the result to an integer\n",
    ">- Return the result\n",
    "- Use the Series.apply() method to apply the above function to each value in the 'How much total combined money did all members of your HOUSEHOLD earn last year?' column of the dataframe data.\n",
    ">- Assign the result to the new column 'int_income' in the dataframe data.\n",
    "- Call the Series.describe() method to the int_income column of the dataframe data and display the result.\n"
   ]
  },
  {
   "cell_type": "code",
   "execution_count": 17,
   "metadata": {},
   "outputs": [],
   "source": [
    "def income(income):\n",
    "    if pd.isnull(income):\n",
    "        return None\n",
    "    income = income.split(' ')[0]\n",
    "    if income == 'Prefer':\n",
    "        return None \n",
    "    income = income.replace('$', '')\n",
    "    income = income.replace(',', '')\n",
    "    return int(income)"
   ]
  },
  {
   "cell_type": "code",
   "execution_count": 19,
   "metadata": {},
   "outputs": [],
   "source": [
    "thanks['int income'] = thanks['Age'].apply(check)\n",
    "thanks['int income'] = thanks['How much total combined money did all members of your HOUSEHOLD earn last year?'].apply(income)"
   ]
  },
  {
   "cell_type": "code",
   "execution_count": 20,
   "metadata": {},
   "outputs": [
    {
     "data": {
      "text/plain": [
       "0        75000.0\n",
       "1        50000.0\n",
       "2            0.0\n",
       "3       200000.0\n",
       "4       100000.0\n",
       "          ...   \n",
       "1053    100000.0\n",
       "1054     50000.0\n",
       "1055    100000.0\n",
       "1056         NaN\n",
       "1057         NaN\n",
       "Name: int income, Length: 1058, dtype: float64"
      ]
     },
     "execution_count": 20,
     "metadata": {},
     "output_type": "execute_result"
    }
   ],
   "source": [
    "thanks['int income']"
   ]
  },
  {
   "cell_type": "markdown",
   "metadata": {},
   "source": [
    "## Correlation between distance and income\n"
   ]
  },
  {
   "cell_type": "markdown",
   "metadata": {},
   "source": [
    "- Watch how people earning less than 150,000 dollars travel.\n",
    ">- Filter data by selecting only 'int_income' values below $150,000.\n",
    ">- Select the column 'How far will you travel for Thanksgiving? taking into account the filter\n",
    ">- Use the value_counts() method to count how many times each value appears in the column.\n",
    ">- Display the results\n",
    "- Do the same with people earning more than 150,000 dollars.\n"
   ]
  },
  {
   "cell_type": "code",
   "execution_count": 30,
   "metadata": {},
   "outputs": [],
   "source": [
    "a =  thanks[thanks['int income']< 150000]['How far will you travel for Thanksgiving?'].value_counts()"
   ]
  },
  {
   "cell_type": "code",
   "execution_count": 31,
   "metadata": {},
   "outputs": [
    {
     "data": {
      "text/plain": [
       "Thanksgiving is happening at my home--I won't travel at all                         281\n",
       "Thanksgiving is local--it will take place in the town I live in                     203\n",
       "Thanksgiving is out of town but not too far--it's a drive of a few hours or less    150\n",
       "Thanksgiving is out of town and far away--I have to drive several hours or fly       55\n",
       "Name: How far will you travel for Thanksgiving?, dtype: int64"
      ]
     },
     "execution_count": 31,
     "metadata": {},
     "output_type": "execute_result"
    }
   ],
   "source": [
    "a"
   ]
  },
  {
   "cell_type": "markdown",
   "metadata": {},
   "source": [
    "## Link between spending Thanksgiving with friends with age and income ##\n"
   ]
  },
  {
   "cell_type": "markdown",
   "metadata": {},
   "source": [
    "- Generate a pivot table showing the average age of respondents for each category of the questions 'Have you ever tried to meet up with hometown friends on Thanksgiving night? and 'Have you ever attended a \"Friendsgiving?\"'.\n",
    ">- Call the pivot_table() method on the dataframe data\n",
    ">- Set the 'index' parameter to 'Have you ever tried to meet up with hometown friends on Thanksgiving night?'.\n",
    ">- Set the 'columns' parameter to 'Have you ever attended a \"Friendsgiving?\"'.\n",
    ">- Set the 'values' parameter to 'int_age'.\n",
    ">- Display the results\n",
    "- Do the same for revenues with these two questions.\n"
   ]
  },
  {
   "cell_type": "code",
   "execution_count": 36,
   "metadata": {},
   "outputs": [],
   "source": [
    "a = thanks.pivot_table(index = 'Have you ever tried to meet up with hometown friends on Thanksgiving night?',\n",
    "                  columns = 'Have you ever attended a \"Friendsgiving?\"',\n",
    "                  values = 'int age')"
   ]
  },
  {
   "cell_type": "code",
   "execution_count": 37,
   "metadata": {},
   "outputs": [
    {
     "data": {
      "text/html": [
       "<div>\n",
       "<style scoped>\n",
       "    .dataframe tbody tr th:only-of-type {\n",
       "        vertical-align: middle;\n",
       "    }\n",
       "\n",
       "    .dataframe tbody tr th {\n",
       "        vertical-align: top;\n",
       "    }\n",
       "\n",
       "    .dataframe thead th {\n",
       "        text-align: right;\n",
       "    }\n",
       "</style>\n",
       "<table border=\"1\" class=\"dataframe\">\n",
       "  <thead>\n",
       "    <tr style=\"text-align: right;\">\n",
       "      <th>Have you ever attended a \"Friendsgiving?\"</th>\n",
       "      <th>No</th>\n",
       "      <th>Yes</th>\n",
       "    </tr>\n",
       "    <tr>\n",
       "      <th>Have you ever tried to meet up with hometown friends on Thanksgiving night?</th>\n",
       "      <th></th>\n",
       "      <th></th>\n",
       "    </tr>\n",
       "  </thead>\n",
       "  <tbody>\n",
       "    <tr>\n",
       "      <td>No</td>\n",
       "      <td>42.283702</td>\n",
       "      <td>37.010526</td>\n",
       "    </tr>\n",
       "    <tr>\n",
       "      <td>Yes</td>\n",
       "      <td>41.475410</td>\n",
       "      <td>33.976744</td>\n",
       "    </tr>\n",
       "  </tbody>\n",
       "</table>\n",
       "</div>"
      ],
      "text/plain": [
       "Have you ever attended a \"Friendsgiving?\"                  No        Yes\n",
       "Have you ever tried to meet up with hometown fr...                      \n",
       "No                                                  42.283702  37.010526\n",
       "Yes                                                 41.475410  33.976744"
      ]
     },
     "execution_count": 37,
     "metadata": {},
     "output_type": "execute_result"
    }
   ],
   "source": [
    "a"
   ]
  },
  {
   "cell_type": "code",
   "execution_count": null,
   "metadata": {},
   "outputs": [],
   "source": []
  }
 ],
 "metadata": {
  "kernelspec": {
   "display_name": "Python 3",
   "language": "python",
   "name": "python3"
  },
  "language_info": {
   "codemirror_mode": {
    "name": "ipython",
    "version": 3
   },
   "file_extension": ".py",
   "mimetype": "text/x-python",
   "name": "python",
   "nbconvert_exporter": "python",
   "pygments_lexer": "ipython3",
   "version": "3.7.4"
  }
 },
 "nbformat": 4,
 "nbformat_minor": 2
}
