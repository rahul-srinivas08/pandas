{
 "cells": [
  {
   "cell_type": "markdown",
   "metadata": {},
   "source": [
    "# Bar graphs and scatter plots\n"
   ]
  },
  {
   "cell_type": "markdown",
   "metadata": {},
   "source": [
    "- Read 'fandango_scores.csv' in a dataframe review.\n",
    "- Select the following columns and assign them to the dataframe norm_reviews:\n",
    ">- 'FILM'.\n",
    ">- 'RT_user_norm'.\n",
    ">- 'Metacritic_user_name'...\n",
    ">- 'IMDB_norm'.\n",
    ">- 'Fandango_Ratingvalue'.\n",
    ">- 'Fandango_Stars'...\n",
    "- Display the first lines of norm_reviews.\n"
   ]
  },
  {
   "cell_type": "code",
   "execution_count": 1,
   "metadata": {},
   "outputs": [
    {
     "data": {
      "text/html": [
       "<div>\n",
       "<style scoped>\n",
       "    .dataframe tbody tr th:only-of-type {\n",
       "        vertical-align: middle;\n",
       "    }\n",
       "\n",
       "    .dataframe tbody tr th {\n",
       "        vertical-align: top;\n",
       "    }\n",
       "\n",
       "    .dataframe thead th {\n",
       "        text-align: right;\n",
       "    }\n",
       "</style>\n",
       "<table border=\"1\" class=\"dataframe\">\n",
       "  <thead>\n",
       "    <tr style=\"text-align: right;\">\n",
       "      <th></th>\n",
       "      <th>FILM</th>\n",
       "      <th>RT_user_norm</th>\n",
       "      <th>Metacritic_user_nom</th>\n",
       "      <th>IMDB_norm</th>\n",
       "      <th>Fandango_Ratingvalue</th>\n",
       "      <th>Fandango_Stars</th>\n",
       "    </tr>\n",
       "  </thead>\n",
       "  <tbody>\n",
       "    <tr>\n",
       "      <td>0</td>\n",
       "      <td>Avengers: Age of Ultron (2015)</td>\n",
       "      <td>4.30</td>\n",
       "      <td>3.55</td>\n",
       "      <td>3.90</td>\n",
       "      <td>4.5</td>\n",
       "      <td>5.0</td>\n",
       "    </tr>\n",
       "    <tr>\n",
       "      <td>1</td>\n",
       "      <td>Cinderella (2015)</td>\n",
       "      <td>4.00</td>\n",
       "      <td>3.75</td>\n",
       "      <td>3.55</td>\n",
       "      <td>4.5</td>\n",
       "      <td>5.0</td>\n",
       "    </tr>\n",
       "    <tr>\n",
       "      <td>2</td>\n",
       "      <td>Ant-Man (2015)</td>\n",
       "      <td>4.50</td>\n",
       "      <td>4.05</td>\n",
       "      <td>3.90</td>\n",
       "      <td>4.5</td>\n",
       "      <td>5.0</td>\n",
       "    </tr>\n",
       "    <tr>\n",
       "      <td>3</td>\n",
       "      <td>Do You Believe? (2015)</td>\n",
       "      <td>4.20</td>\n",
       "      <td>2.35</td>\n",
       "      <td>2.70</td>\n",
       "      <td>4.5</td>\n",
       "      <td>5.0</td>\n",
       "    </tr>\n",
       "    <tr>\n",
       "      <td>4</td>\n",
       "      <td>Hot Tub Time Machine 2 (2015)</td>\n",
       "      <td>1.40</td>\n",
       "      <td>1.70</td>\n",
       "      <td>2.55</td>\n",
       "      <td>3.0</td>\n",
       "      <td>3.5</td>\n",
       "    </tr>\n",
       "    <tr>\n",
       "      <td>...</td>\n",
       "      <td>...</td>\n",
       "      <td>...</td>\n",
       "      <td>...</td>\n",
       "      <td>...</td>\n",
       "      <td>...</td>\n",
       "      <td>...</td>\n",
       "    </tr>\n",
       "    <tr>\n",
       "      <td>141</td>\n",
       "      <td>Mr. Holmes (2015)</td>\n",
       "      <td>3.90</td>\n",
       "      <td>3.95</td>\n",
       "      <td>3.70</td>\n",
       "      <td>4.0</td>\n",
       "      <td>4.0</td>\n",
       "    </tr>\n",
       "    <tr>\n",
       "      <td>142</td>\n",
       "      <td>'71 (2015)</td>\n",
       "      <td>4.10</td>\n",
       "      <td>3.75</td>\n",
       "      <td>3.60</td>\n",
       "      <td>3.5</td>\n",
       "      <td>3.5</td>\n",
       "    </tr>\n",
       "    <tr>\n",
       "      <td>143</td>\n",
       "      <td>Two Days, One Night (2014)</td>\n",
       "      <td>3.90</td>\n",
       "      <td>4.40</td>\n",
       "      <td>3.70</td>\n",
       "      <td>3.5</td>\n",
       "      <td>3.5</td>\n",
       "    </tr>\n",
       "    <tr>\n",
       "      <td>144</td>\n",
       "      <td>Gett: The Trial of Viviane Amsalem (2015)</td>\n",
       "      <td>4.05</td>\n",
       "      <td>3.65</td>\n",
       "      <td>3.90</td>\n",
       "      <td>3.5</td>\n",
       "      <td>3.5</td>\n",
       "    </tr>\n",
       "    <tr>\n",
       "      <td>145</td>\n",
       "      <td>Kumiko, The Treasure Hunter (2015)</td>\n",
       "      <td>3.15</td>\n",
       "      <td>3.20</td>\n",
       "      <td>3.35</td>\n",
       "      <td>3.5</td>\n",
       "      <td>3.5</td>\n",
       "    </tr>\n",
       "  </tbody>\n",
       "</table>\n",
       "<p>146 rows × 6 columns</p>\n",
       "</div>"
      ],
      "text/plain": [
       "                                          FILM  RT_user_norm  \\\n",
       "0               Avengers: Age of Ultron (2015)          4.30   \n",
       "1                            Cinderella (2015)          4.00   \n",
       "2                               Ant-Man (2015)          4.50   \n",
       "3                       Do You Believe? (2015)          4.20   \n",
       "4                Hot Tub Time Machine 2 (2015)          1.40   \n",
       "..                                         ...           ...   \n",
       "141                          Mr. Holmes (2015)          3.90   \n",
       "142                                 '71 (2015)          4.10   \n",
       "143                 Two Days, One Night (2014)          3.90   \n",
       "144  Gett: The Trial of Viviane Amsalem (2015)          4.05   \n",
       "145         Kumiko, The Treasure Hunter (2015)          3.15   \n",
       "\n",
       "     Metacritic_user_nom  IMDB_norm  Fandango_Ratingvalue  Fandango_Stars  \n",
       "0                   3.55       3.90                   4.5             5.0  \n",
       "1                   3.75       3.55                   4.5             5.0  \n",
       "2                   4.05       3.90                   4.5             5.0  \n",
       "3                   2.35       2.70                   4.5             5.0  \n",
       "4                   1.70       2.55                   3.0             3.5  \n",
       "..                   ...        ...                   ...             ...  \n",
       "141                 3.95       3.70                   4.0             4.0  \n",
       "142                 3.75       3.60                   3.5             3.5  \n",
       "143                 4.40       3.70                   3.5             3.5  \n",
       "144                 3.65       3.90                   3.5             3.5  \n",
       "145                 3.20       3.35                   3.5             3.5  \n",
       "\n",
       "[146 rows x 6 columns]"
      ]
     },
     "execution_count": 1,
     "metadata": {},
     "output_type": "execute_result"
    }
   ],
   "source": [
    "import pandas as pd\n",
    "import numpy as np\n",
    "norm = pd.read_csv('fandango_scores.csv')\n",
    "norm_reviews = norm[['FILM','RT_user_norm','Metacritic_user_nom','IMDB_norm','Fandango_Ratingvalue','Fandango_Stars']]\n",
    "norm_reviews"
   ]
  },
  {
   "cell_type": "markdown",
   "metadata": {},
   "source": [
    "## Bar graphs\n"
   ]
  },
  {
   "cell_type": "markdown",
   "metadata": {},
   "source": [
    "- Create a subgraph and assign the Figure object to the variable fig and the Axes object to the variable ax.\n",
    "- Generate a bar chart with:\n",
    ">- left defined by bar_positions which must take the values 1,2,3,4 and 5\n",
    ">- height defined by bar_heights which must take the 5 columns that interest us\n",
    ">- width fixed at 0.5\n",
    "- Use plt.show() to display the bar chart.\n"
   ]
  },
  {
   "cell_type": "code",
   "execution_count": null,
   "metadata": {},
   "outputs": [],
   "source": []
  },
  {
   "cell_type": "code",
   "execution_count": 2,
   "metadata": {},
   "outputs": [
    {
     "name": "stdout",
     "output_type": "stream",
     "text": [
      "RT_user_norm            4.30\n",
      "Metacritic_user_nom     3.55\n",
      "IMDB_norm               3.90\n",
      "Fandango_Ratingvalue    4.50\n",
      "Fandango_Stars          5.00\n",
      "Name: 0, dtype: float64\n"
     ]
    },
    {
     "data": {
      "text/plain": [
       "<Figure size 640x480 with 1 Axes>"
      ]
     },
     "metadata": {},
     "output_type": "display_data"
    }
   ],
   "source": [
    "import numpy as np\n",
    "import matplotlib.pyplot as plt\n",
    "\n",
    "n= 5\n",
    "bar_positions = ['RT','Metacritic','IMDB','Fandango_rating','Fandango_Stars']\n",
    "bar_width = 0.5\n",
    "\n",
    "fig,ax = plt.subplots()\n",
    "\n",
    "y1 = norm_reviews.iloc[0]\n",
    "y1 = y1[1:6].astype('float')\n",
    "print(y1)\n",
    "r = ax.bar(bar_positions,y1,bar_width,color = 'b')\n",
    "\n",
    "plt.show()\n",
    "\n",
    "#norm_reviews.loc[df['FILM'] == 'Avengers: Age of Ultron (2015)']"
   ]
  },
  {
   "cell_type": "markdown",
   "metadata": {},
   "source": [
    "# \n"
   ]
  },
  {
   "cell_type": "markdown",
   "metadata": {},
   "source": [
    "## Align heading and line on the x-axis\n"
   ]
  },
  {
   "cell_type": "markdown",
   "metadata": {},
   "source": [
    "- Create a subgraph and assign the Figure object to the variable fig and the Axes object to the variable ax.\n",
    "- Generate a bar chart with:\n",
    ">- left defined by bar_positions which must take the values 1, 2, 3, 4 and 5\n",
    ">- height defined by bar_heights which must take the 5 columns that interest us\n",
    ">- width fixed at 0.5\n",
    "- Place the 5 lines corresponding to the bars.\n",
    "- Place the num_cols labels and rotate 90 degrees.\n",
    "- Define the x-axis by 'Notation Sources'.\n",
    "- Define the y-axis as 'Average score'.\n",
    "- Set the title to 'Average User Score for Avengers: Age of Ultron (2015'.\n",
    "- Use plt.show() to display the diagram.\n"
   ]
  },
  {
   "cell_type": "code",
   "execution_count": 3,
   "metadata": {},
   "outputs": [
    {
     "data": {
      "image/png": "[encoded data removed]",
      "text/plain": [
       "<Figure size 432x288 with 1 Axes>"
      ]
     },
     "metadata": {
      "needs_background": "light"
     },
     "output_type": "display_data"
    }
   ],
   "source": [
    "bar_positions = [1,2,3,4,5]\n",
    "bar_width = 0.5\n",
    "\n",
    "fig, ax = plt.subplots()\n",
    "r1 = ax.bar(bar_positions, y1, bar_width,color='b')\n",
    "\n",
    "plt.xticks(rotation=90)\n",
    "plt.title(\"Average User Score for Avengers: Age of Ultron (2015)\")\n",
    "plt.xlabel(\"Notation Sources\")\n",
    "plt.ylabel(\"Average score\")\n",
    "plt.show()"
   ]
  },
  {
   "cell_type": "markdown",
   "metadata": {},
   "source": [
    "## Horizontal bar chart\n"
   ]
  },
  {
   "cell_type": "markdown",
   "metadata": {},
   "source": [
    "- Create a subgraph and assign the Figure object to the variable fig and the Axes object to the variable ax.\n",
    "- Generate a bar chart with:\n",
    ">- bottom for bar_positions\n",
    ">- width for bar widths bar_widths\n",
    ">- height fixed at 0.5\n",
    "- Place the 5 lines corresponding to the bars on the y-axis.\n",
    "- Place the num_cols headings.\n",
    "- Define the y-axis by 'Note sources'.\n",
    "- Define the x axis as 'Average note'.\n",
    "- Define the title as 'Average User Score for the movie Avengers: Age of Ultron (2015)'.\n",
    "- Use plt.show() to display the bar chart.\n"
   ]
  },
  {
   "cell_type": "code",
   "execution_count": 4,
   "metadata": {},
   "outputs": [
    {
     "data": {
      "image/png": "[encoded data removed]",
      "text/plain": [
       "<Figure size 432x288 with 1 Axes>"
      ]
     },
     "metadata": {
      "needs_background": "light"
     },
     "output_type": "display_data"
    }
   ],
   "source": [
    "bar_positions = [1,2,3,4,5]\n",
    "bar_width = 0.5\n",
    "\n",
    "fig, ax = plt.subplots()\n",
    "r1 = ax.barh(bar_positions, y1, bar_width,color='b')\n",
    "plt.title(\"Average User Score for Avengers: Age of Ultron (2015)\")\n",
    "plt.xlabel(\"Note Sources\")\n",
    "plt.ylabel(\"Average note\")\n",
    "plt.show()"
   ]
  },
  {
   "cell_type": "markdown",
   "metadata": {},
   "source": [
    "## Scatter plot\n"
   ]
  },
  {
   "cell_type": "markdown",
   "metadata": {},
   "source": [
    "- Create a subgraph and assign the Figure object to the variable fig and the Axes object to the variable ax.\n",
    "- Generate a scatter plot with the column 'Fandango_Ratingvalue' for the x-axis and the column 'RT_user_norm' for the y-axis.\n",
    "- Define 'Fandango' for the x-axis and 'Rotten Tomatoes' for the y-axis.\n",
    "- Display the resulting graph.\n"
   ]
  },
  {
   "cell_type": "code",
   "execution_count": 5,
   "metadata": {},
   "outputs": [
    {
     "data": {
      "image/png": "[encoded data removed]",
      "text/plain": [
       "<Figure size 432x288 with 1 Axes>"
      ]
     },
     "metadata": {
      "needs_background": "light"
     },
     "output_type": "display_data"
    }
   ],
   "source": [
    "fig, ax = plt.subplots()\n",
    "x = norm_reviews['Fandango_Ratingvalue']\n",
    "y = norm_reviews['RT_user_norm']\n",
    "ax.scatter(x, y)\n",
    "plt.xlabel('Fandango')\n",
    "plt.ylabel('Rotten Tomatoes')\n",
    "plt.show()"
   ]
  },
  {
   "cell_type": "markdown",
   "metadata": {},
   "source": [
    "## Swap the axes\n"
   ]
  },
  {
   "cell_type": "markdown",
   "metadata": {},
   "source": [
    "- For the subgraph associated with the variable ax1.\n",
    ">- Generate a scatter plot with the column 'Fandango_Ratingvalue' on the x-axis and the column 'RT_user_norm' on the y-axis.\n",
    ">- Define 'Fandango' for the x axis and 'Rotten Tomatoes' for the y axis.\n",
    "- For the subgraph associated with the variable ax2.\n",
    ">- Generate a scatter plot with the column 'RT_user_norm' on the x-axis and the column 'Fandango_Ratingvalue' on the y-axis.\n",
    ">- Define for the x axis 'Rotten Tomatoes' and for the y axis 'fandango'.\n",
    "- Display the resulting graphic.\n"
   ]
  },
  {
   "cell_type": "code",
   "execution_count": 6,
   "metadata": {},
   "outputs": [
    {
     "data": {
      "image/png": "[encoded data removed]",
      "text/plain": [
       "<Figure size 432x288 with 2 Axes>"
      ]
     },
     "metadata": {
      "needs_background": "light"
     },
     "output_type": "display_data"
    }
   ],
   "source": [
    "f, (ax1, ax2) = plt.subplots(nrows=2, ncols=1)\n",
    "x = norm_reviews['Fandango_Ratingvalue']\n",
    "y = norm_reviews['RT_user_norm']\n",
    "ax1.scatter(x, y)\n",
    "\n",
    "\n",
    "x1 = norm_reviews['RT_user_norm']\n",
    "y1 = norm_reviews['Fandango_Ratingvalue']\n",
    "ax2.scatter(x1, y1)\n",
    "\n",
    "ax1.set_ylabel('Rotten Tomatoes')\n",
    "ax1.set_xlabel('fandango')\n",
    "\n",
    "ax2.set_ylabel('fandango')\n",
    "ax2.set_xlabel('Rotten Tomatoes')\n",
    "\n",
    "f.tight_layout()\n",
    "plt.show()"
   ]
  },
  {
   "cell_type": "markdown",
   "metadata": {},
   "source": [
    "## Comparison of correlations\n"
   ]
  },
  {
   "cell_type": "markdown",
   "metadata": {},
   "source": [
    "Draw a graph with 3 subgraphs:\n",
    "- For the subgraph associated with the variable ax1:\n",
    ">- Generate a scatter plot with the column 'Fandango_Ratingvalue' on the x-axis and the column 'RT_user_norm' on the y-axis.\n",
    ">- Define 'Fandango' for the x axis and 'Rotten Tomatoes' for the y axis.\n",
    ">- Define the limits of the x and y axes by setting them from 0 to 5.\n",
    "- For the subgraph associated with the variable ax2:\n",
    ">- Generate a scatter plot with the column 'Fandango_Ratingvalue' on the x-axis and the column 'Metacritic_user_name' on the y-axis.\n",
    ">- Define 'Fandango' for the x axis and 'Metacritic' for the y axis.\n",
    ">- Define the limits of the x and y axes by setting them from 0 to 5.\n",
    "- For the subgraph associated with the variable ax3:\n",
    ">- Generate a scatter plot with the column 'Fandango_Ratingvalue' on the x-axis and the column 'IMDB_norm' on the y-axis.\n",
    ">- Define 'Fandango' for the x axis and 'IMDB' for the y axis.\n",
    ">- Define the limits of the x and y axes by setting them from 0 to 5.\n",
    "- Display the graph.\n"
   ]
  },
  {
   "cell_type": "code",
   "execution_count": 7,
   "metadata": {},
   "outputs": [
    {
     "data": {
      "image/png": "[encoded data removed]",
      "text/plain": [
       "<Figure size 432x288 with 3 Axes>"
      ]
     },
     "metadata": {
      "needs_background": "light"
     },
     "output_type": "display_data"
    }
   ],
   "source": [
    "f, (ax1, ax2,ax3) = plt.subplots(nrows=3, ncols=1)\n",
    "x1 = norm_reviews['Fandango_Ratingvalue']\n",
    "y1 = norm_reviews['RT_user_norm']\n",
    "ax1.scatter(x1, y1)\n",
    "ax1.set_ylabel('RT user norm')\n",
    "ax1.set_xlabel('fandango')\n",
    "ax1.set_xticks(np.arange(0, 6, step=1))\n",
    "ax1.set_yticks(np.arange(0, 6, step=1))\n",
    "\n",
    "x2 = norm_reviews['Fandango_Ratingvalue']\n",
    "y2 = norm_reviews['Metacritic_user_nom']\n",
    "ax2.scatter(x2, y2)\n",
    "ax2.set_ylabel('Metacritic')\n",
    "ax2.set_xlabel('Fandango_Ratingvalue')\n",
    "ax2.set_xticks(np.arange(0, 6, step=1))\n",
    "ax2.set_yticks(np.arange(0, 6, step=1))\n",
    "\n",
    "x3 = norm_reviews['Fandango_Ratingvalue']\n",
    "y3 = norm_reviews['IMDB_norm']\n",
    "ax3.scatter(x3, y3)\n",
    "ax3.set_ylabel('fandango')\n",
    "ax3.set_xlabel('IMDB norm')\n",
    "ax3.set_xticks(np.arange(0, 6, step=1))\n",
    "ax3.set_yticks(np.arange(0, 6, step=1))\n",
    "\n",
    "f.tight_layout()"
   ]
  },
  {
   "cell_type": "code",
   "execution_count": null,
   "metadata": {},
   "outputs": [],
   "source": []
  },
  {
   "cell_type": "code",
   "execution_count": null,
   "metadata": {},
   "outputs": [],
   "source": []
  },
  {
   "cell_type": "code",
   "execution_count": null,
   "metadata": {},
   "outputs": [],
   "source": []
  }
 ],
 "metadata": {
  "kernelspec": {
   "display_name": "Python 3",
   "language": "python",
   "name": "python3"
  },
  "language_info": {
   "codemirror_mode": {
    "name": "ipython",
    "version": 3
   },
   "file_extension": ".py",
   "mimetype": "text/x-python",
   "name": "python",
   "nbconvert_exporter": "python",
   "pygments_lexer": "ipython3",
   "version": "3.7.4"
  }
 },
 "nbformat": 4,
 "nbformat_minor": 2
}
