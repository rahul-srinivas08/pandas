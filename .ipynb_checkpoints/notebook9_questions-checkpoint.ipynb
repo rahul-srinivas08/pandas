{
 "cells": [
  {
   "cell_type": "markdown",
   "metadata": {},
   "source": [
    "# Bar graphs and scatter plots\n"
   ]
  },
  {
   "cell_type": "markdown",
   "metadata": {},
   "source": [
    "- Read 'fandango_scores.csv' in a dataframe review.\n",
    "- Select the following columns and assign them to the dataframe norm_reviews:\n",
    ">- 'FILM'.\n",
    ">- 'RT_user_norm'.\n",
    ">- 'Metacritic_user_name'...\n",
    ">- 'IMDB_norm'.\n",
    ">- 'Fandango_Ratingvalue'.\n",
    ">- 'Fandango_Stars'...\n",
    "- Display the first lines of norm_reviews.\n"
   ]
  },
  {
   "cell_type": "code",
   "execution_count": null,
   "metadata": {},
   "outputs": [],
   "source": []
  },
  {
   "cell_type": "markdown",
   "metadata": {},
   "source": [
    "## Bar graphs\n"
   ]
  },
  {
   "cell_type": "markdown",
   "metadata": {},
   "source": [
    "- Create a subgraph and assign the Figure object to the variable fig and the Axes object to the variable ax.\n",
    "- Generate a bar chart with:\n",
    ">- left defined by bar_positions which must take the values 1,2,3,4 and 5\n",
    ">- height defined by bar_heights which must take the 5 columns that interest us\n",
    ">- width fixed at 0.5\n",
    "- Use plt.show() to display the bar chart.\n"
   ]
  },
  {
   "cell_type": "code",
   "execution_count": null,
   "metadata": {},
   "outputs": [],
   "source": []
  },
  {
   "cell_type": "markdown",
   "metadata": {},
   "source": [
    "## Align heading and line on the x-axis\n"
   ]
  },
  {
   "cell_type": "markdown",
   "metadata": {},
   "source": [
    "- Create a subgraph and assign the Figure object to the variable fig and the Axes object to the variable ax.\n",
    "- Generate a bar chart with:\n",
    ">- left defined by bar_positions which must take the values 1, 2, 3, 4 and 5\n",
    ">- height defined by bar_heights which must take the 5 columns that interest us\n",
    ">- width fixed at 0.5\n",
    "- Place the 5 lines corresponding to the bars.\n",
    "- Place the num_cols labels and rotate 90 degrees.\n",
    "- Define the x-axis by 'Notation Sources'.\n",
    "- Define the y-axis as 'Average score'.\n",
    "- Set the title to 'Average User Score for Avengers: Age of Ultron (2015'.\n",
    "- Use plt.show() to display the diagram.\n"
   ]
  },
  {
   "cell_type": "code",
   "execution_count": null,
   "metadata": {},
   "outputs": [],
   "source": []
  },
  {
   "cell_type": "markdown",
   "metadata": {},
   "source": [
    "## Horizontal bar chart\n"
   ]
  },
  {
   "cell_type": "markdown",
   "metadata": {},
   "source": [
    "- Create a subgraph and assign the Figure object to the variable fig and the Axes object to the variable ax.\n",
    "- Generate a bar chart with:\n",
    ">- bottom for bar_positions\n",
    ">- width for bar widths bar_widths\n",
    ">- height fixed at 0.5\n",
    "- Place the 5 lines corresponding to the bars on the y-axis.\n",
    "- Place the num_cols headings.\n",
    "- Define the y-axis by 'Note sources'.\n",
    "- Define the x axis as 'Average note'.\n",
    "- Define the title as 'Average User Score for the movie Avengers: Age of Ultron (2015)'.\n",
    "- Use plt.show() to display the bar chart.\n"
   ]
  },
  {
   "cell_type": "code",
   "execution_count": null,
   "metadata": {},
   "outputs": [],
   "source": []
  },
  {
   "cell_type": "markdown",
   "metadata": {},
   "source": [
    "## Scatter plot\n"
   ]
  },
  {
   "cell_type": "markdown",
   "metadata": {},
   "source": [
    "- Create a subgraph and assign the Figure object to the variable fig and the Axes object to the variable ax.\n",
    "- Generate a scatter plot with the column 'Fandango_Ratingvalue' for the x-axis and the column 'RT_user_norm' for the y-axis.\n",
    "- Define 'Fandango' for the x-axis and 'Rotten Tomatoes' for the y-axis.\n",
    "- Display the resulting graph.\n"
   ]
  },
  {
   "cell_type": "code",
   "execution_count": null,
   "metadata": {},
   "outputs": [],
   "source": []
  },
  {
   "cell_type": "markdown",
   "metadata": {},
   "source": [
    "## Swap the axes\n"
   ]
  },
  {
   "cell_type": "markdown",
   "metadata": {},
   "source": [
    "- For the subgraph associated with the variable ax1.\n",
    ">- Generate a scatter plot with the column 'Fandango_Ratingvalue' on the x-axis and the column 'RT_user_norm' on the y-axis.\n",
    ">- Define 'Fandango' for the x axis and 'Rotten Tomatoes' for the y axis.\n",
    "- For the subgraph associated with the variable ax2.\n",
    ">- Generate a scatter plot with the column 'RT_user_norm' on the x-axis and the column 'Fandango_Ratingvalue' on the y-axis.\n",
    ">- Define for the x axis 'Rotten Tomatoes' and for the y axis 'fandango'.\n",
    "- Display the resulting graphic.\n"
   ]
  },
  {
   "cell_type": "code",
   "execution_count": null,
   "metadata": {},
   "outputs": [],
   "source": []
  },
  {
   "cell_type": "markdown",
   "metadata": {},
   "source": [
    "## Comparison of correlations\n"
   ]
  },
  {
   "cell_type": "markdown",
   "metadata": {},
   "source": [
    "Draw a graph with 3 subgraphs:\n",
    "- For the subgraph associated with the variable ax1:\n",
    ">- Generate a scatter plot with the column 'Fandango_Ratingvalue' on the x-axis and the column 'RT_user_norm' on the y-axis.\n",
    ">- Define 'Fandango' for the x axis and 'Rotten Tomatoes' for the y axis.\n",
    ">- Define the limits of the x and y axes by setting them from 0 to 5.\n",
    "- For the subgraph associated with the variable ax2:\n",
    ">- Generate a scatter plot with the column 'Fandango_Ratingvalue' on the x-axis and the column 'Metacritic_user_name' on the y-axis.\n",
    ">- Define 'Fandango' for the x axis and 'Metacritic' for the y axis.\n",
    ">- Define the limits of the x and y axes by setting them from 0 to 5.\n",
    "- For the subgraph associated with the variable ax3:\n",
    ">- Generate a scatter plot with the column 'Fandango_Ratingvalue' on the x-axis and the column 'IMDB_norm' on the y-axis.\n",
    ">- Define 'Fandango' for the x axis and 'IMDB' for the y axis.\n",
    ">- Define the limits of the x and y axes by setting them from 0 to 5.\n",
    "- Display the graph.\n"
   ]
  },
  {
   "cell_type": "code",
   "execution_count": null,
   "metadata": {},
   "outputs": [],
   "source": []
  },
  {
   "cell_type": "code",
   "execution_count": null,
   "metadata": {},
   "outputs": [],
   "source": []
  },
  {
   "cell_type": "code",
   "execution_count": null,
   "metadata": {},
   "outputs": [],
   "source": []
  }
 ],
 "metadata": {
  "kernelspec": {
   "display_name": "Python 3",
   "language": "python",
   "name": "python3"
  },
  "language_info": {
   "codemirror_mode": {
    "name": "ipython",
    "version": 3
   },
   "file_extension": ".py",
   "mimetype": "text/x-python",
   "name": "python",
   "nbconvert_exporter": "python",
   "pygments_lexer": "ipython3",
   "version": "3.7.4"
  }
 },
 "nbformat": 4,
 "nbformat_minor": 2
}
