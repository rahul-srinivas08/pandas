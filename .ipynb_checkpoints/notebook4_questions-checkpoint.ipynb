{
 "cells": [
  {
   "cell_type": "markdown",
   "metadata": {},
   "source": [
    "# Challenge\n"
   ]
  },
  {
   "cell_type": "markdown",
   "metadata": {},
   "source": [
    "## Introduction to the datase\n"
   ]
  },
  {
   "cell_type": "markdown",
   "metadata": {},
   "source": [
    "- Read all-ages.csv from a DataFrame and assign it to the all_ages variable.\n",
    "- Read recent-grads.csv from a DataFrame and assign it to the recent_grads variable.\n",
    "- Display the first 5 lines of all_ages and recent_grads.\n"
   ]
  },
  {
   "cell_type": "code",
   "execution_count": null,
   "metadata": {},
   "outputs": [],
   "source": [
    "import pandas as pd\n",
    "all_ages = pd.read_csv('all-ages.csv')\n",
    "recent_grads = pd.read_csv('recent-grads.csv')\n"
   ]
  },
  {
   "cell_type": "code",
   "execution_count": null,
   "metadata": {},
   "outputs": [],
   "source": []
  },
  {
   "cell_type": "code",
   "execution_count": null,
   "metadata": {},
   "outputs": [],
   "source": []
  },
  {
   "cell_type": "markdown",
   "metadata": {},
   "source": [
    "## Number of students per Major category\n"
   ]
  },
  {
   "cell_type": "markdown",
   "metadata": {},
   "source": [
    "- Return the unique values of Major_category.\n",
    ">- Use the Series.unique() method to return the unique values of a Series.\n"
   ]
  },
  {
   "cell_type": "code",
   "execution_count": null,
   "metadata": {},
   "outputs": [],
   "source": []
  },
  {
   "cell_type": "markdown",
   "metadata": {},
   "source": [
    "- For each unique value (use a for? loop):\n",
    ">- Return all lines where Major_category is worth this unique value.\n",
    ">- Calculate the total number of students representing this major category (Total column to sum).\n",
    ">- You will store this result in the form of a dictionary containing a Major_category key and the number of students as a value.\n"
   ]
  },
  {
   "cell_type": "code",
   "execution_count": null,
   "metadata": {},
   "outputs": [],
   "source": []
  },
  {
   "cell_type": "markdown",
   "metadata": {},
   "source": [
    "#### Mission:\n",
    "- Create a function in which you will use the Total column to calculate the number of students for each Major category (Major_category) in each dataset.\n",
    ">- Store the result in 2 separate dictionaries.\n",
    ">- The key for each dictionary will be Major_category and the value the total number of students.\n",
    ">- For the dataset all_ages, store the result in a dictionary called aa_car_counts.\n",
    ">- For the dataset recent_grads, store the result in a dictionary called rg_cat_counts.\n",
    "- Other method: Use a table pivot.\n",
    "- Display both dictionaries.\n"
   ]
  },
  {
   "cell_type": "code",
   "execution_count": null,
   "metadata": {},
   "outputs": [],
   "source": []
  },
  {
   "cell_type": "code",
   "execution_count": null,
   "metadata": {},
   "outputs": [],
   "source": []
  },
  {
   "cell_type": "code",
   "execution_count": null,
   "metadata": {},
   "outputs": [],
   "source": []
  },
  {
   "cell_type": "code",
   "execution_count": null,
   "metadata": {},
   "outputs": [],
   "source": []
  },
  {
   "cell_type": "code",
   "execution_count": null,
   "metadata": {},
   "outputs": [],
   "source": []
  },
  {
   "cell_type": "markdown",
   "metadata": {},
   "source": [
    "## Low-wage job rate\n"
   ]
  },
  {
   "cell_type": "markdown",
   "metadata": {},
   "source": [
    "- Use the columns \"Low_wage_jobs\" and \"Total\" to calculate the proportion of young graduates who had to find low-wage jobs (recent_grads).\n",
    ">- Remember that you can use the Series.sum() method to return the sum of the values of a column\n",
    "- Store the result in the variable low_wage_proportion and display it.\n"
   ]
  },
  {
   "cell_type": "code",
   "execution_count": null,
   "metadata": {},
   "outputs": [],
   "source": []
  },
  {
   "cell_type": "markdown",
   "metadata": {},
   "source": [
    "## Compare datasets\n"
   ]
  },
  {
   "cell_type": "markdown",
   "metadata": {},
   "source": [
    "- Use a for loop to browse all majors.\n",
    ">- For each major and each DataFrame, filter only the lines of the DataFrame corresponding to that major.\n",
    ">- Compare the values for the \"Unemployment_rate\" column to see which of the 2 DataFrames has the lowest value.\n",
    ">- Increment (cad add 1) to the rg_lower_count variable if the value for Unemployment_rate is smaller in dataframe recent_grads than in dataframe all_ages\n",
    "- Display the result rg_lower_count.\n"
   ]
  },
  {
   "cell_type": "code",
   "execution_count": null,
   "metadata": {},
   "outputs": [],
   "source": []
  },
  {
   "cell_type": "code",
   "execution_count": null,
   "metadata": {},
   "outputs": [],
   "source": []
  }
 ],
 "metadata": {
  "kernelspec": {
   "display_name": "Python 3",
   "language": "python",
   "name": "python3"
  },
  "language_info": {
   "codemirror_mode": {
    "name": "ipython",
    "version": 3
   },
   "file_extension": ".py",
   "mimetype": "text/x-python",
   "name": "python",
   "nbconvert_exporter": "python",
   "pygments_lexer": "ipython3",
   "version": "3.7.4"
  }
 },
 "nbformat": 4,
 "nbformat_minor": 2
}
