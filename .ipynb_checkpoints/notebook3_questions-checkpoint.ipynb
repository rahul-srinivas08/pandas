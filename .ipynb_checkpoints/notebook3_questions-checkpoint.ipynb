{
 "cells": [
  {
   "cell_type": "markdown",
   "metadata": {},
   "source": [
    "# Process missing values\n"
   ]
  },
  {
   "cell_type": "markdown",
   "metadata": {
    "collapsed": true
   },
   "source": [
    "## Find the missing values\n"
   ]
  },
  {
   "cell_type": "markdown",
   "metadata": {},
   "source": [
    "- Read the dataset titanic_survival.csv\n"
   ]
  },
  {
   "cell_type": "markdown",
   "metadata": {},
   "source": [
    "- Count the number of values in the \"age\" column with missing values:\n",
    ">- Assign to the variable age the column of ages of the dataframe titanic_survival\n",
    ">- Use pandas.isnull() on the age variable to create a set of True and False values.\n",
    ">- Use the resulting Series to select only the elements in the \"age\" column that are null and assign the result to the age_null variable.\n",
    ">- Assign the number of missing values of age_null to the variable age_null_count (function len() )\n",
    "- Display age_null_count to see the number of missing values in the column \"age\".\n"
   ]
  },
  {
   "cell_type": "code",
   "execution_count": 19,
   "metadata": {},
   "outputs": [
    {
     "name": "stdout",
     "output_type": "stream",
     "text": [
      "0       29.0000\n",
      "1        0.9167\n",
      "2        2.0000\n",
      "3       30.0000\n",
      "4       25.0000\n",
      "         ...   \n",
      "1305        NaN\n",
      "1306    26.5000\n",
      "1307    27.0000\n",
      "1308    29.0000\n",
      "1309        NaN\n",
      "Name: age, Length: 1310, dtype: float64 0       False\n",
      "1       False\n",
      "2       False\n",
      "3       False\n",
      "4       False\n",
      "        ...  \n",
      "1305     True\n",
      "1306    False\n",
      "1307    False\n",
      "1308    False\n",
      "1309     True\n",
      "Name: age, Length: 1310, dtype: bool\n",
      "264\n"
     ]
    }
   ],
   "source": [
    "import pandas as pd\n",
    "titanic_survival = pd.read_csv('titanic_survival.csv')\n",
    "age = titanic_survival['age']\n",
    "age_null = []\n",
    "check = pd.isnull(age)\n",
    "print(age,check)\n",
    "count = 0\n",
    "for i in check:\n",
    "    count += 1\n",
    "    if i == True:\n",
    "        age_null.append(age.iloc[count:]) \n",
    "print(len(age_null))\n"
   ]
  },
  {
   "cell_type": "code",
   "execution_count": 18,
   "metadata": {},
   "outputs": [
    {
     "data": {
      "text/plain": [
       "0       False\n",
       "1       False\n",
       "2       False\n",
       "3       False\n",
       "4       False\n",
       "        ...  \n",
       "1305     True\n",
       "1306    False\n",
       "1307    False\n",
       "1308    False\n",
       "1309     True\n",
       "Name: age, Length: 1310, dtype: bool"
      ]
     },
     "execution_count": 18,
     "metadata": {},
     "output_type": "execute_result"
    }
   ],
   "source": [
    "age_is_null = pd.isnull(titanic_survival[\"age\"])\n",
    "age_is_null"
   ]
  },
  {
   "cell_type": "code",
   "execution_count": null,
   "metadata": {},
   "outputs": [],
   "source": []
  },
  {
   "cell_type": "code",
   "execution_count": null,
   "metadata": {},
   "outputs": [],
   "source": []
  },
  {
   "cell_type": "markdown",
   "metadata": {},
   "source": [
    "## Problem with missing values\n"
   ]
  },
  {
   "cell_type": "markdown",
   "metadata": {},
   "source": [
    "- Use age_is_null to create a vector that contains only the values in the \"age\" column that are not NaN (i.e. for which age_is_null is False)\n",
    "- Assign this result to the variable good_ages\n",
    "- Calculate the mean of this new vector and assign the result to the variable mean_age\n",
    "- Display this average.\n"
   ]
  },
  {
   "cell_type": "code",
   "execution_count": 28,
   "metadata": {},
   "outputs": [
    {
     "ename": "SyntaxError",
     "evalue": "invalid syntax (<ipython-input-28-07611f73eff4>, line 2)",
     "output_type": "error",
     "traceback": [
      "\u001b[1;36m  File \u001b[1;32m\"<ipython-input-28-07611f73eff4>\"\u001b[1;36m, line \u001b[1;32m2\u001b[0m\n\u001b[1;33m    for i , value enumerate(age_is_null):\u001b[0m\n\u001b[1;37m                          ^\u001b[0m\n\u001b[1;31mSyntaxError\u001b[0m\u001b[1;31m:\u001b[0m invalid syntax\n"
     ]
    }
   ],
   "source": [
    "good_ages = []\n",
    "for i , value enumerate(age_is_null):\n",
    "    if value == False:\n",
    "        good_ages.append(age.iloc[i:]) \n",
    "mean_age =    good_ages.mean()    "
   ]
  },
  {
   "cell_type": "code",
   "execution_count": 30,
   "metadata": {},
   "outputs": [
    {
     "data": {
      "text/plain": [
       "29.8811345124283"
      ]
     },
     "execution_count": 30,
     "metadata": {},
     "output_type": "execute_result"
    }
   ],
   "source": [
    "titanic_survival[\"age\"][-titanic_survival.age.isnull()].mean()\n"
   ]
  },
  {
   "cell_type": "code",
   "execution_count": 27,
   "metadata": {},
   "outputs": [
    {
     "data": {
      "text/plain": [
       "15     NaN\n",
       "37     NaN\n",
       "40     NaN\n",
       "46     NaN\n",
       "59     NaN\n",
       "        ..\n",
       "1297   NaN\n",
       "1302   NaN\n",
       "1303   NaN\n",
       "1305   NaN\n",
       "1309   NaN\n",
       "Name: age, Length: 264, dtype: float64"
      ]
     },
     "execution_count": 27,
     "metadata": {},
     "output_type": "execute_result"
    }
   ],
   "source": [
    "titanic_survival[\"age\"][-titanic_survival.age.notnull()]"
   ]
  },
  {
   "cell_type": "code",
   "execution_count": 25,
   "metadata": {},
   "outputs": [
    {
     "data": {
      "text/plain": [
       "0       29.0\n",
       "24      29.0\n",
       "189     29.0\n",
       "226     29.0\n",
       "369     29.0\n",
       "372     29.0\n",
       "374     29.0\n",
       "391     29.0\n",
       "407     29.0\n",
       "452     29.0\n",
       "521     29.0\n",
       "526     29.0\n",
       "574     29.0\n",
       "586     29.0\n",
       "589     29.0\n",
       "688     29.0\n",
       "715     29.0\n",
       "746     29.0\n",
       "880     29.0\n",
       "893     29.0\n",
       "935     29.0\n",
       "950     29.0\n",
       "951     29.0\n",
       "990     29.0\n",
       "1058    29.0\n",
       "1100    29.0\n",
       "1196    29.0\n",
       "1231    29.0\n",
       "1258    29.0\n",
       "1308    29.0\n",
       "Name: age, dtype: float64"
      ]
     },
     "execution_count": 25,
     "metadata": {},
     "output_type": "execute_result"
    }
   ],
   "source": [
    "titanic_survival[\"age\"][titanic_survival[\"age\"]== 29.0]"
   ]
  },
  {
   "cell_type": "markdown",
   "metadata": {},
   "source": [
    "## To calculate an average more simply ##\n"
   ]
  },
  {
   "cell_type": "markdown",
   "metadata": {},
   "source": [
    "- Assign the mean of the column \"fare\" to the variable mean_fare.\n",
    "- Display the result.\n"
   ]
  },
  {
   "cell_type": "code",
   "execution_count": 29,
   "metadata": {},
   "outputs": [
    {
     "data": {
      "text/plain": [
       "29.8811345124283"
      ]
     },
     "execution_count": 29,
     "metadata": {},
     "output_type": "execute_result"
    }
   ],
   "source": [
    "titanic_survival[\"age\"].mean()#work with out missing value"
   ]
  },
  {
   "cell_type": "markdown",
   "metadata": {},
   "source": [
    "## Calculate price statistics\n"
   ]
  },
  {
   "cell_type": "markdown",
   "metadata": {},
   "source": [
    "- Create an empty dictionary called fares_by_class.\n",
    "- Create the passenger_classes list which contains the elements [1,2,3].\n",
    "- Use a for loop to browse the passenger_classes list:\n",
    ">- Just select the titanic_survival lines for which the pclass column is equal to the temporary variable (the iterator) of the for loop, i.e. corresponding to the class number (1, 2 or 3).\n",
    ">- Select only the fare column for this subset of rows (corresponding to the class).\n",
    ">- Use the Series.mean() method to calculate the average of this subset\n",
    ">- Add this calculated average of the class to the fares_by_class dictionary with the class number as a key (and therefore as a value the average price of the boarding ticket)\n",
    "- Once the loop is complete, the fares_by_class dictionary should have 1,2 and 3 as keys with the corresponding averages as values.\n",
    "- Display the result.\n"
   ]
  },
  {
   "cell_type": "code",
   "execution_count": null,
   "metadata": {},
   "outputs": [],
   "source": []
  },
  {
   "cell_type": "markdown",
   "metadata": {},
   "source": [
    "## Introduction to table pivots\n"
   ]
  },
  {
   "cell_type": "markdown",
   "metadata": {},
   "source": [
    "- Use the dataFrame.pivot_table() method to calculate the average age for each passenger class (\"pclass\").\n",
    "- Assign the result to the variable passenger_age.\n",
    "- Display passenger_age.\n",
    "- Do the same with the survived column for each passenger class.\n"
   ]
  },
  {
   "cell_type": "code",
   "execution_count": null,
   "metadata": {},
   "outputs": [],
   "source": []
  },
  {
   "cell_type": "code",
   "execution_count": null,
   "metadata": {},
   "outputs": [],
   "source": []
  },
  {
   "cell_type": "markdown",
   "metadata": {},
   "source": [
    "## Pivot Tables Level 2\n"
   ]
  },
  {
   "cell_type": "markdown",
   "metadata": {},
   "source": [
    "- Make a pivot table that calculates the total money collected (\"fare\") and the total number of survivors (\"survivved\") for each boat port (\"embarked\"). You will have to use the numpy.sum function.\n",
    "- Assign the result to the port_stats variable.\n",
    "- Display the result.\n"
   ]
  },
  {
   "cell_type": "code",
   "execution_count": null,
   "metadata": {},
   "outputs": [],
   "source": []
  },
  {
   "cell_type": "markdown",
   "metadata": {},
   "source": [
    "## Eliminate missing values\n"
   ]
  },
  {
   "cell_type": "markdown",
   "metadata": {},
   "source": [
    "- Delete all rows of titanic_survival for which the columns \"age\" or \"sex\" have missing values and assign the result to the variable new_titanic_survival.\n",
    "- Compare the number of rows left with the shape attribute.\n"
   ]
  },
  {
   "cell_type": "code",
   "execution_count": null,
   "metadata": {},
   "outputs": [],
   "source": []
  },
  {
   "cell_type": "code",
   "execution_count": null,
   "metadata": {},
   "outputs": [],
   "source": []
  },
  {
   "cell_type": "markdown",
   "metadata": {},
   "source": [
    "## iloc to access lines\n"
   ]
  },
  {
   "cell_type": "markdown",
   "metadata": {},
   "source": [
    "- Assign the first 10 lines of new_titanic_survival to the first_ten_rows variable.\n",
    "- Assign the 5th line of new_titanic_survival to the row_position-fifth variable.\n",
    "- Assign the row with index name 25 for new_titanic_survival to the variable row_index_25.\n"
   ]
  },
  {
   "cell_type": "code",
   "execution_count": null,
   "metadata": {},
   "outputs": [],
   "source": []
  },
  {
   "cell_type": "markdown",
   "metadata": {},
   "source": [
    "## The column indexes\n"
   ]
  },
  {
   "cell_type": "markdown",
   "metadata": {},
   "source": [
    "- Assign the row heading value 1100 for the \"age\" column of new_titanic_survival to the variable row_index_1100_age.\n",
    "- Assign the row heading value 25 for the column \"survived\" in new_titanic_survival to the variable row_index_25_survived.\n",
    "- Assign the first 5 rows and 3 columns of new_titanic_survival to the variable five_rows_three_cols.\n",
    "- Display all results.\n"
   ]
  },
  {
   "cell_type": "code",
   "execution_count": null,
   "metadata": {},
   "outputs": [],
   "source": []
  },
  {
   "cell_type": "code",
   "execution_count": null,
   "metadata": {},
   "outputs": [],
   "source": []
  },
  {
   "cell_type": "code",
   "execution_count": null,
   "metadata": {},
   "outputs": [],
   "source": []
  },
  {
   "cell_type": "markdown",
   "metadata": {},
   "source": [
    "## Re-index the lines in a dataframe ##\n"
   ]
  },
  {
   "cell_type": "markdown",
   "metadata": {},
   "source": [
    "- Re-index the new_titanic_survival dataframe so that the first line starts at 0 and remove the old indexing.\n",
    "- Assign the result to the variable titanic_reindexed.\n",
    "- Display the first 5 rows and first 3 columns of titanic_reindexed.\n"
   ]
  },
  {
   "cell_type": "code",
   "execution_count": null,
   "metadata": {},
   "outputs": [],
   "source": []
  },
  {
   "cell_type": "markdown",
   "metadata": {},
   "source": [
    "## Applying functions to a DataFrame\n"
   ]
  },
  {
   "cell_type": "markdown",
   "metadata": {},
   "source": [
    "- Write a function that counts the number of missing elements in a Series object.\n",
    "- Use the DataFrame.apply() method to apply your function on titanic_survival.\n",
    "- Assign the result to the variable column_null_count.\n",
    "- Display the result.\n"
   ]
  },
  {
   "cell_type": "code",
   "execution_count": null,
   "metadata": {},
   "outputs": [],
   "source": []
  },
  {
   "cell_type": "code",
   "execution_count": null,
   "metadata": {},
   "outputs": [],
   "source": []
  },
  {
   "cell_type": "markdown",
   "metadata": {},
   "source": [
    "## Apply a function to a line\n"
   ]
  },
  {
   "cell_type": "markdown",
   "metadata": {},
   "source": [
    "- Create a function that returns the string \"minor\" for someone under 18 years old, \"adult\" if their age is 18 or older, and \"unknown\" if the value is missing.\n",
    "- Use this function with the apply() method to find the correct title for each apssager in the titanic_survival dataframe.\n",
    "- Assign the result to the age_labels variable.\n",
    "- Display the result.\n"
   ]
  },
  {
   "cell_type": "code",
   "execution_count": null,
   "metadata": {},
   "outputs": [],
   "source": []
  },
  {
   "cell_type": "code",
   "execution_count": null,
   "metadata": {},
   "outputs": [],
   "source": []
  },
  {
   "cell_type": "markdown",
   "metadata": {},
   "source": [
    "## Practice: Calculate percent survival by age group\n"
   ]
  },
  {
   "cell_type": "markdown",
   "metadata": {},
   "source": [
    "- Add the column \"age_labels\" to the dataframe titanic_survival containing the variable age_labels that we created before.\n",
    "- Create a pivot table that calculates the average chance of survival (column \"survived\") for each age group (column \"age_labels\") in the dataframe titanic_survival.\n",
    "- Assign the resulting Series object to the age_group_survival variable.\n",
    "- Display the result.\n"
   ]
  },
  {
   "cell_type": "code",
   "execution_count": null,
   "metadata": {},
   "outputs": [],
   "source": []
  }
 ],
 "metadata": {
  "kernelspec": {
   "display_name": "Python 3",
   "language": "python",
   "name": "python3"
  },
  "language_info": {
   "codemirror_mode": {
    "name": "ipython",
    "version": 3
   },
   "file_extension": ".py",
   "mimetype": "text/x-python",
   "name": "python",
   "nbconvert_exporter": "python",
   "pygments_lexer": "ipython3",
   "version": "3.7.4"
  }
 },
 "nbformat": 4,
 "nbformat_minor": 2
}
