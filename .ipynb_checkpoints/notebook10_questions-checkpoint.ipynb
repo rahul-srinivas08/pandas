{
 "cells": [
  {
   "cell_type": "markdown",
   "metadata": {},
   "source": [
    "# Histograms and mustache boxes\n"
   ]
  },
  {
   "cell_type": "code",
   "execution_count": null,
   "metadata": {},
   "outputs": [],
   "source": []
  },
  {
   "cell_type": "markdown",
   "metadata": {},
   "source": [
    "## Frequency distribution\n"
   ]
  },
  {
   "cell_type": "markdown",
   "metadata": {},
   "source": [
    "- Use the value_counts() method to return the frequency count of the 'IMDB_norm' column. Sort the resulting Series object by its index and assign the result to the variable imdb_distribution.\n",
    "- Display the result.\n"
   ]
  },
  {
   "cell_type": "code",
   "execution_count": null,
   "metadata": {},
   "outputs": [],
   "source": []
  },
  {
   "cell_type": "markdown",
   "metadata": {},
   "source": [
    "## [ Matplotlib ] ##[Continues] The histograms with Matplotlib ##\n"
   ]
  },
  {
   "cell_type": "markdown",
   "metadata": {},
   "source": [
    "- Create a subgraph and assign the objects Figure to the variable fig and Axes to the variable ax.\n",
    "- Generate a histogram of the values in the column 'Fandango_Ratingvalue' using a range from 0 to 5.\n",
    "- Use plt.show() to display the graph.\n"
   ]
  },
  {
   "cell_type": "code",
   "execution_count": null,
   "metadata": {},
   "outputs": [],
   "source": []
  },
  {
   "cell_type": "markdown",
   "metadata": {},
   "source": [
    "## Comparison of histograms\n"
   ]
  },
  {
   "cell_type": "markdown",
   "metadata": {},
   "source": [
    "Draw a graph with 4 subgraphs:\n",
    "- For the subgraph associated with the variable ax1:\n",
    ">- Generate a histogram of the values in the column 'Fandango_Ratingvalue' using 20 classes (bins) and an interval from 0 to 5.\n",
    "- For the subgraph associated with the variable ax2:\n",
    ">- Generate a histogram of the values of the column 'RT_user_norm' using 20 classes (bins) and an interval from 0 to 5\n",
    "- For the subgraph associated with the variable ax3:\n",
    ">- Generate a histogram of the values of the column 'Metacritic_user_name' using 20 classes (bins) and an interval from 0 to 5\n",
    "- For the subgraph associated with the variable ax4:\n",
    ">- Generate a histogram of the values of the column 'IMDB_norm' using 20 classes (bins) and an interval from 0 to 5\n",
    "- For all graphs set the range on the y-axis from 0 to 50 using Axes.set_ylim() and choose a title.\n",
    "- Display the histograms.\n"
   ]
  },
  {
   "cell_type": "code",
   "execution_count": null,
   "metadata": {},
   "outputs": [],
   "source": []
  },
  {
   "cell_type": "markdown",
   "metadata": {},
   "source": [
    "## Multiple box diagrams ##\n"
   ]
  },
  {
   "cell_type": "markdown",
   "metadata": {},
   "source": [
    "- Create a subgraph and assign the objects Figure to the variable fig and Axes to the variable ax.\n",
    "- Generate a box diagram for each column of num_cols = ['RT_user_norm', 'Metacritic_user_name', 'IMDB_norm', 'Fandango_Ratingvalue'].\n",
    "- Define for each diagram a heading corresponding to the name of the column num_cols and rotate this heading by 90 degrees.\n",
    "- Define the y-axis interval from 0 to 5.\n",
    "- Display the graph.\n"
   ]
  },
  {
   "cell_type": "code",
   "execution_count": null,
   "metadata": {},
   "outputs": [],
   "source": []
  },
  {
   "cell_type": "code",
   "execution_count": null,
   "metadata": {},
   "outputs": [],
   "source": []
  }
 ],
 "metadata": {
  "kernelspec": {
   "display_name": "Python 3",
   "language": "python",
   "name": "python3"
  },
  "language_info": {
   "codemirror_mode": {
    "name": "ipython",
    "version": 3
   },
   "file_extension": ".py",
   "mimetype": "text/x-python",
   "name": "python",
   "nbconvert_exporter": "python",
   "pygments_lexer": "ipython3",
   "version": "3.7.4"
  }
 },
 "nbformat": 4,
 "nbformat_minor": 2
}
