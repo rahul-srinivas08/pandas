{
 "cells": [
  {
   "cell_type": "markdown",
   "metadata": {},
   "source": [
    "# All about Series Pandas\n"
   ]
  },
  {
   "cell_type": "markdown",
   "metadata": {},
   "source": [
    "- Read the file \"fandango_score_comparison.csv\" in a dataframe called fandango.\n",
    "- Display the first 2 lines of fandango.\n"
   ]
  },
  {
   "cell_type": "code",
   "execution_count": 2,
   "metadata": {},
   "outputs": [
    {
     "data": {
      "text/html": [
       "<div>\n",
       "<style scoped>\n",
       "    .dataframe tbody tr th:only-of-type {\n",
       "        vertical-align: middle;\n",
       "    }\n",
       "\n",
       "    .dataframe tbody tr th {\n",
       "        vertical-align: top;\n",
       "    }\n",
       "\n",
       "    .dataframe thead th {\n",
       "        text-align: right;\n",
       "    }\n",
       "</style>\n",
       "<table border=\"1\" class=\"dataframe\">\n",
       "  <thead>\n",
       "    <tr style=\"text-align: right;\">\n",
       "      <th></th>\n",
       "      <th>FILM</th>\n",
       "      <th>RottenTomatoes</th>\n",
       "      <th>RottenTomatoes_User</th>\n",
       "      <th>Metacritic</th>\n",
       "      <th>Metacritic_User</th>\n",
       "      <th>IMDB</th>\n",
       "      <th>Fandango_Stars</th>\n",
       "      <th>Fandango_Ratingvalue</th>\n",
       "      <th>RT_norm</th>\n",
       "      <th>RT_user_norm</th>\n",
       "      <th>...</th>\n",
       "      <th>IMDB_norm</th>\n",
       "      <th>RT_norm_round</th>\n",
       "      <th>RT_user_norm_round</th>\n",
       "      <th>Metacritic_norm_round</th>\n",
       "      <th>Metacritic_user_norm_round</th>\n",
       "      <th>IMDB_norm_round</th>\n",
       "      <th>Metacritic_user_vote_count</th>\n",
       "      <th>IMDB_user_vote_count</th>\n",
       "      <th>Fandango_votes</th>\n",
       "      <th>Fandango_Difference</th>\n",
       "    </tr>\n",
       "  </thead>\n",
       "  <tbody>\n",
       "    <tr>\n",
       "      <td>0</td>\n",
       "      <td>Avengers: Age of Ultron (2015)</td>\n",
       "      <td>74</td>\n",
       "      <td>86</td>\n",
       "      <td>66</td>\n",
       "      <td>7.1</td>\n",
       "      <td>7.8</td>\n",
       "      <td>5.0</td>\n",
       "      <td>4.5</td>\n",
       "      <td>3.70</td>\n",
       "      <td>4.3</td>\n",
       "      <td>...</td>\n",
       "      <td>3.90</td>\n",
       "      <td>3.5</td>\n",
       "      <td>4.5</td>\n",
       "      <td>3.5</td>\n",
       "      <td>3.5</td>\n",
       "      <td>4.0</td>\n",
       "      <td>1330</td>\n",
       "      <td>271107</td>\n",
       "      <td>14846</td>\n",
       "      <td>0.5</td>\n",
       "    </tr>\n",
       "    <tr>\n",
       "      <td>1</td>\n",
       "      <td>Cinderella (2015)</td>\n",
       "      <td>85</td>\n",
       "      <td>80</td>\n",
       "      <td>67</td>\n",
       "      <td>7.5</td>\n",
       "      <td>7.1</td>\n",
       "      <td>5.0</td>\n",
       "      <td>4.5</td>\n",
       "      <td>4.25</td>\n",
       "      <td>4.0</td>\n",
       "      <td>...</td>\n",
       "      <td>3.55</td>\n",
       "      <td>4.5</td>\n",
       "      <td>4.0</td>\n",
       "      <td>3.5</td>\n",
       "      <td>4.0</td>\n",
       "      <td>3.5</td>\n",
       "      <td>249</td>\n",
       "      <td>65709</td>\n",
       "      <td>12640</td>\n",
       "      <td>0.5</td>\n",
       "    </tr>\n",
       "  </tbody>\n",
       "</table>\n",
       "<p>2 rows × 22 columns</p>\n",
       "</div>"
      ],
      "text/plain": [
       "                             FILM  RottenTomatoes  RottenTomatoes_User  \\\n",
       "0  Avengers: Age of Ultron (2015)              74                   86   \n",
       "1               Cinderella (2015)              85                   80   \n",
       "\n",
       "   Metacritic  Metacritic_User  IMDB  Fandango_Stars  Fandango_Ratingvalue  \\\n",
       "0          66              7.1   7.8             5.0                   4.5   \n",
       "1          67              7.5   7.1             5.0                   4.5   \n",
       "\n",
       "   RT_norm  RT_user_norm  ...  IMDB_norm  RT_norm_round  RT_user_norm_round  \\\n",
       "0     3.70           4.3  ...       3.90            3.5                 4.5   \n",
       "1     4.25           4.0  ...       3.55            4.5                 4.0   \n",
       "\n",
       "   Metacritic_norm_round  Metacritic_user_norm_round  IMDB_norm_round  \\\n",
       "0                    3.5                         3.5              4.0   \n",
       "1                    3.5                         4.0              3.5   \n",
       "\n",
       "   Metacritic_user_vote_count  IMDB_user_vote_count  Fandango_votes  \\\n",
       "0                        1330                271107           14846   \n",
       "1                         249                 65709           12640   \n",
       "\n",
       "   Fandango_Difference  \n",
       "0                  0.5  \n",
       "1                  0.5  \n",
       "\n",
       "[2 rows x 22 columns]"
      ]
     },
     "execution_count": 2,
     "metadata": {},
     "output_type": "execute_result"
    }
   ],
   "source": [
    "import pandas as pd\n",
    "fandango = pd.read_csv(\"fandango_score_comparison.csv\")\n",
    "fandango.iloc[:2]"
   ]
  },
  {
   "cell_type": "markdown",
   "metadata": {},
   "source": [
    "## Indexing with integers\n"
   ]
  },
  {
   "cell_type": "markdown",
   "metadata": {},
   "source": [
    "- Select the column \"FILM\" and assign it to the variable series_film and display the first 5 values.\n",
    "- Do the same with the column \"RottenTomatoes\" and assign it to the variable series_rt then display the first 5 values.\n"
   ]
  },
  {
   "cell_type": "code",
   "execution_count": 3,
   "metadata": {},
   "outputs": [
    {
     "data": {
      "text/plain": [
       "0    Avengers: Age of Ultron (2015)\n",
       "1                 Cinderella (2015)\n",
       "2                    Ant-Man (2015)\n",
       "3            Do You Believe? (2015)\n",
       "4     Hot Tub Time Machine 2 (2015)\n",
       "Name: FILM, dtype: object"
      ]
     },
     "execution_count": 3,
     "metadata": {},
     "output_type": "execute_result"
    }
   ],
   "source": [
    "series_film = fandango[\"FILM\"]\n",
    "series_film.head()"
   ]
  },
  {
   "cell_type": "code",
   "execution_count": 4,
   "metadata": {},
   "outputs": [
    {
     "name": "stdout",
     "output_type": "stream",
     "text": [
      "0    74\n",
      "1    85\n",
      "2    80\n",
      "3    18\n",
      "4    14\n",
      "Name: RottenTomatoes, dtype: int64\n",
      "0    74\n",
      "1    85\n",
      "2    80\n",
      "3    18\n",
      "4    14\n",
      "Name: RottenTomatoes, dtype: int64\n"
     ]
    }
   ],
   "source": [
    "series_rt = fandango[\"RottenTomatoes\"]\n",
    "print(series_rt.iloc[:5])\n",
    "print(series_rt.head())"
   ]
  },
  {
   "cell_type": "markdown",
   "metadata": {},
   "source": [
    "## Customize your indexing\n"
   ]
  },
  {
   "cell_type": "markdown",
   "metadata": {},
   "source": [
    "- Create a Series object named series_custom that will have a string index (based on the movie names we assign to the variable film_names) and will contain all the RottenTomatoes notes of series_rt that we assign to the variable rt_scores.\n",
    ">- Be careful to use lists of values for our 2 parameters of the Series() method.\n",
    ">- Don't forget to import the Series object from pandas\n"
   ]
  },
  {
   "cell_type": "code",
   "execution_count": 5,
   "metadata": {},
   "outputs": [
    {
     "data": {
      "text/plain": [
       "Avengers: Age of Ultron (2015)                74\n",
       "Cinderella (2015)                             85\n",
       "Ant-Man (2015)                                80\n",
       "Do You Believe? (2015)                        18\n",
       "Hot Tub Time Machine 2 (2015)                 14\n",
       "                                            ... \n",
       "Mr. Holmes (2015)                             87\n",
       "'71 (2015)                                    97\n",
       "Two Days, One Night (2014)                    97\n",
       "Gett: The Trial of Viviane Amsalem (2015)    100\n",
       "Kumiko, The Treasure Hunter (2015)            87\n",
       "Length: 146, dtype: int64"
      ]
     },
     "execution_count": 5,
     "metadata": {},
     "output_type": "execute_result"
    }
   ],
   "source": [
    "from pandas import Series\n",
    "rt_scores = series_rt.values\n",
    "film_names = series_film.values\n",
    "series_custom = Series(rt_scores , index = film_names)\n",
    "series_custom"
   ]
  },
  {
   "cell_type": "code",
   "execution_count": null,
   "metadata": {},
   "outputs": [],
   "source": []
  },
  {
   "cell_type": "code",
   "execution_count": null,
   "metadata": {},
   "outputs": [],
   "source": []
  },
  {
   "cell_type": "code",
   "execution_count": null,
   "metadata": {},
   "outputs": [],
   "source": []
  },
  {
   "cell_type": "markdown",
   "metadata": {},
   "source": [
    "## Re-index a Series object\n"
   ]
  },
  {
   "cell_type": "markdown",
   "metadata": {},
   "source": [
    "- Create the original_index list containing the current index from the index attribute.\n",
    "- Sort this index using the sorted() method and assign the result to the sorted_index variable.\n",
    "- Then apply the reindex() method to our Series custom_series to reindex according to the sorted_index index.\n",
    "- Store the result in the sorted_by_index variable.\n",
    "- Display the result.\n"
   ]
  },
  {
   "cell_type": "code",
   "execution_count": 6,
   "metadata": {},
   "outputs": [
    {
     "data": {
      "text/plain": [
       "[\"'71 (2015)\",\n",
       " '5 Flights Up (2015)',\n",
       " 'A Little Chaos (2015)',\n",
       " 'A Most Violent Year (2014)',\n",
       " 'About Elly (2015)',\n",
       " 'Aloha (2015)',\n",
       " 'American Sniper (2015)',\n",
       " 'American Ultra (2015)',\n",
       " 'Amy (2015)',\n",
       " 'Annie (2014)',\n",
       " 'Ant-Man (2015)',\n",
       " 'Avengers: Age of Ultron (2015)',\n",
       " 'Big Eyes (2014)',\n",
       " 'Birdman (2014)',\n",
       " 'Black Sea (2015)',\n",
       " 'Black or White (2015)',\n",
       " 'Blackhat (2015)',\n",
       " 'Cake (2015)',\n",
       " 'Chappie (2015)',\n",
       " 'Child 44 (2015)',\n",
       " 'Cinderella (2015)',\n",
       " 'Clouds of Sils Maria (2015)',\n",
       " 'Danny Collins (2015)',\n",
       " 'Dark Places (2015)',\n",
       " 'Do You Believe? (2015)',\n",
       " 'Dope (2015)',\n",
       " 'Entourage (2015)',\n",
       " 'Escobar: Paradise Lost (2015)',\n",
       " 'Ex Machina (2015)',\n",
       " 'Fantastic Four (2015)',\n",
       " 'Far From The Madding Crowd (2015)',\n",
       " 'Fifty Shades of Grey (2015)',\n",
       " 'Focus (2015)',\n",
       " 'Furious 7 (2015)',\n",
       " 'Get Hard (2015)',\n",
       " 'Gett: The Trial of Viviane Amsalem (2015)',\n",
       " 'Hitman: Agent 47 (2015)',\n",
       " 'Home (2015)',\n",
       " 'Hot Pursuit (2015)',\n",
       " 'Hot Tub Time Machine 2 (2015)',\n",
       " \"I'll See You In My Dreams (2015)\",\n",
       " 'Infinitely Polar Bear (2015)',\n",
       " 'Inherent Vice (2014)',\n",
       " 'Inside Out (2015)',\n",
       " 'Insidious: Chapter 3 (2015)',\n",
       " 'Into the Woods (2014)',\n",
       " 'Irrational Man (2015)',\n",
       " 'It Follows (2015)',\n",
       " 'Jupiter Ascending (2015)',\n",
       " 'Jurassic World (2015)',\n",
       " 'Kingsman: The Secret Service (2015)',\n",
       " 'Kumiko, The Treasure Hunter (2015)',\n",
       " 'Leviathan (2014)',\n",
       " 'Little Boy (2015)',\n",
       " 'Love & Mercy (2015)',\n",
       " 'Mad Max: Fury Road (2015)',\n",
       " 'Maggie (2015)',\n",
       " 'Magic Mike XXL (2015)',\n",
       " 'Maps to the Stars (2015)',\n",
       " 'Max (2015)',\n",
       " 'McFarland, USA (2015)',\n",
       " 'Me and Earl and The Dying Girl (2015)',\n",
       " 'Minions (2015)',\n",
       " 'Mission: Impossible â€“ Rogue Nation (2015)',\n",
       " 'Monkey Kingdom (2015)',\n",
       " 'Mortdecai (2015)',\n",
       " 'Mr. Holmes (2015)',\n",
       " 'Mr. Turner (2014)',\n",
       " 'Night at the Museum: Secret of the Tomb (2014)',\n",
       " 'Paddington (2015)',\n",
       " 'Paper Towns (2015)',\n",
       " 'Paul Blart: Mall Cop 2 (2015)',\n",
       " 'Phoenix (2015)',\n",
       " 'Pitch Perfect 2 (2015)',\n",
       " 'Pixels (2015)',\n",
       " 'Poltergeist (2015)',\n",
       " 'Project Almanac (2015)',\n",
       " 'Red Army (2015)',\n",
       " 'Ricki and the Flash (2015)',\n",
       " 'Run All Night (2015)',\n",
       " 'Saint Laurent (2015)',\n",
       " 'San Andreas (2015)',\n",
       " 'Self/less (2015)',\n",
       " 'Selma (2014)',\n",
       " 'Serena (2015)',\n",
       " 'Seventh Son (2015)',\n",
       " 'Seymour: An Introduction (2015)',\n",
       " 'Shaun the Sheep Movie (2015)',\n",
       " 'Sinister 2 (2015)',\n",
       " 'Song of the Sea (2014)',\n",
       " 'Southpaw (2015)',\n",
       " 'Spare Parts (2015)',\n",
       " 'Spy (2015)',\n",
       " 'Still Alice (2015)',\n",
       " 'Straight Outta Compton (2015)',\n",
       " 'Strange Magic (2015)',\n",
       " 'Taken 3 (2015)',\n",
       " 'Tangerine (2015)',\n",
       " 'Ted 2 (2015)',\n",
       " 'Terminator Genisys (2015)',\n",
       " 'Testament of Youth (2015)',\n",
       " 'The 100-Year-Old Man Who Climbed Out the Window and Disappeared (2015)',\n",
       " 'The Age of Adaline (2015)',\n",
       " 'The Boy Next Door (2015)',\n",
       " 'The DUFF (2015)',\n",
       " 'The Diary of a Teenage Girl (2015)',\n",
       " 'The Divergent Series: Insurgent (2015)',\n",
       " 'The End of the Tour (2015)',\n",
       " 'The Gallows (2015)',\n",
       " 'The Gift (2015)',\n",
       " 'The Gunman (2015)',\n",
       " 'The Hobbit: The Battle of the Five Armies (2014)',\n",
       " 'The Hunting Ground (2015)',\n",
       " 'The Imitation Game (2014)',\n",
       " 'The Last Five Years (2015)',\n",
       " 'The Lazarus Effect (2015)',\n",
       " 'The Loft (2015)',\n",
       " 'The Longest Ride (2015)',\n",
       " 'The Man From U.N.C.L.E. (2015)',\n",
       " 'The Overnight (2015)',\n",
       " 'The Salt of the Earth (2015)',\n",
       " 'The Second Best Exotic Marigold Hotel (2015)',\n",
       " 'The SpongeBob Movie: Sponge Out of Water (2015)',\n",
       " 'The Stanford Prison Experiment (2015)',\n",
       " 'The Vatican Tapes (2015)',\n",
       " 'The Water Diviner (2015)',\n",
       " 'The Wedding Ringer (2015)',\n",
       " 'The Wolfpack (2015)',\n",
       " 'The Woman In Black 2 Angel of Death (2015)',\n",
       " 'The Wrecking Crew (2015)',\n",
       " 'Timbuktu (2015)',\n",
       " 'Tomorrowland (2015)',\n",
       " 'Top Five (2014)',\n",
       " 'Trainwreck (2015)',\n",
       " 'True Story (2015)',\n",
       " 'Two Days, One Night (2014)',\n",
       " 'Unbroken (2014)',\n",
       " 'Unfinished Business (2015)',\n",
       " 'Unfriended (2015)',\n",
       " 'Vacation (2015)',\n",
       " 'Welcome to Me (2015)',\n",
       " 'What We Do in the Shadows (2015)',\n",
       " 'When Marnie Was There (2015)',\n",
       " \"While We're Young (2015)\",\n",
       " 'Wild Tales (2014)',\n",
       " 'Woman in Gold (2015)']"
      ]
     },
     "execution_count": 6,
     "metadata": {},
     "output_type": "execute_result"
    }
   ],
   "source": [
    "\n",
    "original_index = series_custom.index.tolist()\n",
    "sort_index = sorted(original_index)\n",
    "sort_index"
   ]
  },
  {
   "cell_type": "code",
   "execution_count": 7,
   "metadata": {},
   "outputs": [
    {
     "data": {
      "text/plain": [
       "'71 (2015)                          97\n",
       "5 Flights Up (2015)                 52\n",
       "A Little Chaos (2015)               40\n",
       "A Most Violent Year (2014)          90\n",
       "About Elly (2015)                   97\n",
       "                                    ..\n",
       "What We Do in the Shadows (2015)    96\n",
       "When Marnie Was There (2015)        89\n",
       "While We're Young (2015)            83\n",
       "Wild Tales (2014)                   96\n",
       "Woman in Gold (2015)                52\n",
       "Length: 146, dtype: int64"
      ]
     },
     "execution_count": 7,
     "metadata": {},
     "output_type": "execute_result"
    }
   ],
   "source": [
    "sorted_index = series_custom.reindex(sort_index)\n",
    "sorted_index"
   ]
  },
  {
   "cell_type": "markdown",
   "metadata": {},
   "source": [
    "## Sort a Series object\n"
   ]
  },
  {
   "cell_type": "markdown",
   "metadata": {},
   "source": [
    "- Sort the Series series series_custom by index using the sort_index() method and assign the result to the sc2 variable.\n",
    "- Sort the Series series series_custom by values and assign the result to the sc3 variable.\n",
    "- Display the first 10 values of sc2 and sc3.\n"
   ]
  },
  {
   "cell_type": "code",
   "execution_count": 8,
   "metadata": {},
   "outputs": [],
   "source": [
    "sc2 = series_custom.sort_index() \n",
    "sc3 = series_custom.sort_values()"
   ]
  },
  {
   "cell_type": "code",
   "execution_count": 9,
   "metadata": {},
   "outputs": [
    {
     "data": {
      "text/plain": [
       "'71 (2015)                    97\n",
       "5 Flights Up (2015)           52\n",
       "A Little Chaos (2015)         40\n",
       "A Most Violent Year (2014)    90\n",
       "About Elly (2015)             97\n",
       "Aloha (2015)                  19\n",
       "American Sniper (2015)        72\n",
       "American Ultra (2015)         46\n",
       "Amy (2015)                    97\n",
       "Annie (2014)                  27\n",
       "dtype: int64"
      ]
     },
     "execution_count": 9,
     "metadata": {},
     "output_type": "execute_result"
    }
   ],
   "source": [
    "sc2.iloc[:10]"
   ]
  },
  {
   "cell_type": "code",
   "execution_count": 10,
   "metadata": {},
   "outputs": [
    {
     "data": {
      "text/plain": [
       "Paul Blart: Mall Cop 2 (2015)     5\n",
       "Hitman: Agent 47 (2015)           7\n",
       "Hot Pursuit (2015)                8\n",
       "Fantastic Four (2015)             9\n",
       "Taken 3 (2015)                    9\n",
       "The Boy Next Door (2015)         10\n",
       "The Loft (2015)                  11\n",
       "Unfinished Business (2015)       11\n",
       "Mortdecai (2015)                 12\n",
       "Seventh Son (2015)               12\n",
       "dtype: int64"
      ]
     },
     "execution_count": 10,
     "metadata": {},
     "output_type": "execute_result"
    }
   ],
   "source": [
    "sc3.iloc[:10]"
   ]
  },
  {
   "cell_type": "markdown",
   "metadata": {},
   "source": [
    "## Column transformation\n"
   ]
  },
  {
   "cell_type": "markdown",
   "metadata": {},
   "source": [
    "- Normalize the Series series_custom (score scale from 0 to 100) to obtain a score scale from 0 to 5 by dividing the object by 20.\n",
    "- Assign the new Series object to the series_normalized variable.\n",
    "- Display the result.\n"
   ]
  },
  {
   "cell_type": "code",
   "execution_count": 24,
   "metadata": {},
   "outputs": [
    {
     "data": {
      "text/plain": [
       "Avengers: Age of Ultron (2015)    18.50\n",
       "Cinderella (2015)                 21.25\n",
       "Ant-Man (2015)                    20.00\n",
       "Do You Believe? (2015)             4.50\n",
       "Hot Tub Time Machine 2 (2015)      3.50\n",
       "dtype: float64"
      ]
     },
     "execution_count": 24,
     "metadata": {},
     "output_type": "execute_result"
    }
   ],
   "source": [
    "series_normalized = (series_custom/20)*5\n",
    "series_normalized[:5]"
   ]
  },
  {
   "cell_type": "markdown",
   "metadata": {},
   "source": [
    "## Compare and filter\n"
   ]
  },
  {
   "cell_type": "markdown",
   "metadata": {},
   "source": [
    "- Assign to the criteria_one variable the criterion for customer_series values greater than 50.\n",
    "- Assign the criteria_two variable the criterion for customer_series values less than 75.\n",
    "- Return a new filtered Series object named both_criteria which contains only the values for which both criteria are true.\n",
    "- Display this last result.\n"
   ]
  },
  {
   "cell_type": "code",
   "execution_count": 12,
   "metadata": {},
   "outputs": [
    {
     "data": {
      "text/plain": [
       "Woman in Gold (2015)          52\n",
       "The Last Five Years (2015)    60\n",
       "Jurassic World (2015)         71\n",
       "Minions (2015)                54\n",
       "Spare Parts (2015)            52\n",
       "dtype: int64"
      ]
     },
     "execution_count": 12,
     "metadata": {},
     "output_type": "execute_result"
    }
   ],
   "source": [
    "criteria_one = series_custom > 50\n",
    "criteria_two = series_custom < 75\n",
    "both_criteria = series_custom[criteria_one & criteria_two]\n",
    "both_criteria.tail()"
   ]
  },
  {
   "cell_type": "markdown",
   "metadata": {},
   "source": [
    "## Data alignment\n"
   ]
  },
  {
   "cell_type": "markdown",
   "metadata": {},
   "source": [
    "- Create the Series rt_critics that indexes the values of the RottenTomatoes column notes (review notes) with the name of the movies as index (FILM column).\n",
    "- Create the Series rt_users which indexes the values of the RottenTomatoes_User column notes (user notes) with the name of the movies as index (FILM column).\n",
    "- rt_critics and rt_users are thus 2 Series objects containing the average of the critics' and users' scores for each movie.\n",
    "- Since each Series uses the same index (corresponding to the movie names), use mathematical operations to return the average of the critics' and users' scores for each movie.\n",
    "- Assign the resulting Series to the variable rt_mean.\n",
    "- Display the result.\n"
   ]
  },
  {
   "cell_type": "code",
   "execution_count": 19,
   "metadata": {},
   "outputs": [],
   "source": [
    "val = fandango[\"RottenTomatoes\"].tolist()\n",
    "ind = fandango[\"FILM\"].tolist()\n",
    "rt_critics = pd.Series(val,index = ind)"
   ]
  },
  {
   "cell_type": "code",
   "execution_count": 20,
   "metadata": {},
   "outputs": [
    {
     "data": {
      "text/plain": [
       "Avengers: Age of Ultron (2015)                74\n",
       "Cinderella (2015)                             85\n",
       "Ant-Man (2015)                                80\n",
       "Do You Believe? (2015)                        18\n",
       "Hot Tub Time Machine 2 (2015)                 14\n",
       "                                            ... \n",
       "Mr. Holmes (2015)                             87\n",
       "'71 (2015)                                    97\n",
       "Two Days, One Night (2014)                    97\n",
       "Gett: The Trial of Viviane Amsalem (2015)    100\n",
       "Kumiko, The Treasure Hunter (2015)            87\n",
       "Length: 146, dtype: int64"
      ]
     },
     "execution_count": 20,
     "metadata": {},
     "output_type": "execute_result"
    }
   ],
   "source": [
    "rt_critics"
   ]
  },
  {
   "cell_type": "code",
   "execution_count": 21,
   "metadata": {},
   "outputs": [],
   "source": [
    "val = fandango[\"RottenTomatoes_User\"].tolist()\n",
    "ind = fandango[\"FILM\"].tolist()\n",
    "rt_users = pd.Series(val,index = ind)"
   ]
  },
  {
   "cell_type": "code",
   "execution_count": 22,
   "metadata": {},
   "outputs": [
    {
     "data": {
      "text/plain": [
       "Avengers: Age of Ultron (2015)               86\n",
       "Cinderella (2015)                            80\n",
       "Ant-Man (2015)                               90\n",
       "Do You Believe? (2015)                       84\n",
       "Hot Tub Time Machine 2 (2015)                28\n",
       "                                             ..\n",
       "Mr. Holmes (2015)                            78\n",
       "'71 (2015)                                   82\n",
       "Two Days, One Night (2014)                   78\n",
       "Gett: The Trial of Viviane Amsalem (2015)    81\n",
       "Kumiko, The Treasure Hunter (2015)           63\n",
       "Length: 146, dtype: int64"
      ]
     },
     "execution_count": 22,
     "metadata": {},
     "output_type": "execute_result"
    }
   ],
   "source": [
    "rt_users"
   ]
  },
  {
   "cell_type": "code",
   "execution_count": 23,
   "metadata": {},
   "outputs": [
    {
     "data": {
      "text/plain": [
       "Avengers: Age of Ultron (2015)    80.0\n",
       "Cinderella (2015)                 82.5\n",
       "Ant-Man (2015)                    85.0\n",
       "Do You Believe? (2015)            51.0\n",
       "Hot Tub Time Machine 2 (2015)     21.0\n",
       "dtype: float64"
      ]
     },
     "execution_count": 23,
     "metadata": {},
     "output_type": "execute_result"
    }
   ],
   "source": [
    "rt_mean = (rt_critics + rt_users)/2\n",
    "rt_mean[:5]"
   ]
  },
  {
   "cell_type": "code",
   "execution_count": null,
   "metadata": {},
   "outputs": [],
   "source": []
  }
 ],
 "metadata": {
  "kernelspec": {
   "display_name": "Python 3",
   "language": "python",
   "name": "python3"
  },
  "language_info": {
   "codemirror_mode": {
    "name": "ipython",
    "version": 3
   },
   "file_extension": ".py",
   "mimetype": "text/x-python",
   "name": "python",
   "nbconvert_exporter": "python",
   "pygments_lexer": "ipython3",
   "version": "3.7.4"
  }
 },
 "nbformat": 4,
 "nbformat_minor": 2
}
